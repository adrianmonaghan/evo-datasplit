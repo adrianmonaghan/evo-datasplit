{
 "cells": [
  {
   "cell_type": "code",
   "execution_count": 1,
   "outputs": [],
   "source": [
    "import pandas as pd\n",
    "import numpy as np\n",
    "import evo_v6 as evo\n",
    "from decimal import Decimal\n",
    "from typing import List, Tuple\n",
    "import random\n",
    "import pickle"
   ],
   "metadata": {
    "collapsed": false
   }
  },
  {
   "cell_type": "code",
   "execution_count": 8,
   "outputs": [
    {
     "data": {
      "text/plain": "                                  0                              1  \\\n0    (train_l2, 0.4011905290638116)  (val_l2, 0.27583311074788935)   \n1    (train_l2, 0.4008567411851524)   (val_l2, 0.2758290832573197)   \n2   (train_l2, 0.40203110475624076)  (val_l2, 0.27668222781973895)   \n3    (train_l2, 0.4020061726126486)   (val_l2, 0.2757710641425073)   \n4    (train_l2, 0.4008318386852873)   (val_l2, 0.2838313343165827)   \n5   (train_l2, 0.40053517504521263)   (val_l2, 0.2841874075293996)   \n6    (train_l2, 0.4003284452414903)   (val_l2, 0.2768780955737188)   \n7    (train_l2, 0.4014915562848188)   (val_l2, 0.2753690812130534)   \n8    (train_l2, 0.4003284452414903)   (val_l2, 0.2850283085718963)   \n9    (train_l2, 0.4022115106455984)   (val_l2, 0.2751317361428491)   \n10   (train_l2, 0.4611619086493232)   (val_l2, 0.3558552862705399)   \n11   (train_l2, 0.4003284452414903)   (val_l2, 0.2854473714794528)   \n12  (train_l2, 0.40066920895426034)   (val_l2, 0.2760723251509002)   \n13    (train_l2, 0.400963108478302)  (val_l2, 0.28454906969218974)   \n14   (train_l2, 0.4011158072129539)   (val_l2, 0.2830269182323289)   \n15  (train_l2, 0.40111821733198905)  (val_l2, 0.27565079455994373)   \n16   (train_l2, 0.4286903673034982)  (val_l2, 0.31326374028035975)   \n17  (train_l2, 0.40139433994522045)  (val_l2, 0.27565079455994373)   \n18  (train_l2, 0.40097628093071364)   (val_l2, 0.2757009442268654)   \n19  (train_l2, 0.40144420957691546)   (val_l2, 0.2753950971371621)   \n20  (train_l2, 0.40043047778516727)  (val_l2, 0.27677201108268257)   \n21  (train_l2, 0.40308199535074446)  (val_l2, 0.28602947487981323)   \n22  (train_l2, 0.40132927950999947)  (val_l2, 0.27613153311188904)   \n23  (train_l2, 0.40066920895426034)  (val_l2, 0.27618019098592816)   \n24   (train_l2, 0.4029946584437939)  (val_l2, 0.28657877108965624)   \n25  (train_l2, 0.40074575004357504)  (val_l2, 0.27583311074788935)   \n26  (train_l2, 0.40120924655538787)  (val_l2, 0.27677959355015513)   \n27  (train_l2, 0.40202022639064294)   (val_l2, 0.2829949622046849)   \n28   (train_l2, 0.4005914574911296)   (val_l2, 0.2833477757939877)   \n29  (train_l2, 0.40120924655538787)   (val_l2, 0.2764679978805695)   \n30  (train_l2, 0.40058145523501437)  (val_l2, 0.28355509566765136)   \n31   (train_l2, 0.4020061726126486)  (val_l2, 0.27522376669775284)   \n32   (train_l2, 0.4004798527007755)   (val_l2, 0.2763297416075233)   \n33  (train_l2, 0.40053517504521263)  (val_l2, 0.28411985722050553)   \n34  (train_l2, 0.40096783348583764)  (val_l2, 0.27628680007329803)   \n\n                                 2                        3  \n0    (test_l2, 0.2834699457944719)  (illegal_demotion, inf)  \n1    (test_l2, 0.2848296299957108)  (illegal_demotion, inf)  \n2   (test_l2, 0.28271215097764374)  (illegal_demotion, inf)  \n3   (test_l2, 0.28384843286589256)    (illegal_demotion, 0)  \n4   (test_l2, 0.27554828167382117)  (illegal_demotion, inf)  \n5   (test_l2, 0.27573396172891046)  (illegal_demotion, inf)  \n6    (test_l2, 0.2848296299957108)  (illegal_demotion, inf)  \n7   (test_l2, 0.28442120872757126)  (illegal_demotion, inf)  \n8     (test_l2, 0.277763623743246)  (illegal_demotion, inf)  \n9    (test_l2, 0.2843788492031279)  (illegal_demotion, inf)  \n10  (test_l2, 0.28352385655228446)    (illegal_demotion, 0)  \n11   (test_l2, 0.2773353960260011)  (illegal_demotion, inf)  \n12    (test_l2, 0.283968508239662)  (illegal_demotion, inf)  \n13  (test_l2, 0.27543338550792185)  (illegal_demotion, inf)  \n14  (test_l2, 0.27543338550792185)  (illegal_demotion, inf)  \n15  (test_l2, 0.28462657772600464)  (illegal_demotion, inf)  \n16  (test_l2, 0.28362206536071854)    (illegal_demotion, 0)  \n17     (test_l2, 0.28317114182378)  (illegal_demotion, inf)  \n18  (test_l2, 0.28442120872757126)  (illegal_demotion, inf)  \n19   (test_l2, 0.2837814766347415)  (illegal_demotion, inf)  \n20   (test_l2, 0.2853495252308989)  (illegal_demotion, inf)  \n21  (test_l2, 0.27534582477743685)  (illegal_demotion, inf)  \n22  (test_l2, 0.28368603244619184)    (illegal_demotion, 0)  \n23   (test_l2, 0.2836872053842689)  (illegal_demotion, inf)  \n24  (test_l2, 0.27534582477743685)  (illegal_demotion, inf)  \n25  (test_l2, 0.28365175262262826)  (illegal_demotion, inf)  \n26  (test_l2, 0.28368093848279874)    (illegal_demotion, 0)  \n27   (test_l2, 0.2765023410051038)  (illegal_demotion, inf)  \n28  (test_l2, 0.27601854918056484)  (illegal_demotion, inf)  \n29  (test_l2, 0.28442781396085415)    (illegal_demotion, 0)  \n30   (test_l2, 0.2755908302869319)  (illegal_demotion, inf)  \n31  (test_l2, 0.28456183829333265)    (illegal_demotion, 0)  \n32   (test_l2, 0.2834580024467592)  (illegal_demotion, inf)  \n33  (test_l2, 0.27779921452550776)  (illegal_demotion, inf)  \n34  (test_l2, 0.28354647020767193)  (illegal_demotion, inf)  ",
      "text/html": "<div>\n<style scoped>\n    .dataframe tbody tr th:only-of-type {\n        vertical-align: middle;\n    }\n\n    .dataframe tbody tr th {\n        vertical-align: top;\n    }\n\n    .dataframe thead th {\n        text-align: right;\n    }\n</style>\n<table border=\"1\" class=\"dataframe\">\n  <thead>\n    <tr style=\"text-align: right;\">\n      <th></th>\n      <th>0</th>\n      <th>1</th>\n      <th>2</th>\n      <th>3</th>\n    </tr>\n  </thead>\n  <tbody>\n    <tr>\n      <th>0</th>\n      <td>(train_l2, 0.4011905290638116)</td>\n      <td>(val_l2, 0.27583311074788935)</td>\n      <td>(test_l2, 0.2834699457944719)</td>\n      <td>(illegal_demotion, inf)</td>\n    </tr>\n    <tr>\n      <th>1</th>\n      <td>(train_l2, 0.4008567411851524)</td>\n      <td>(val_l2, 0.2758290832573197)</td>\n      <td>(test_l2, 0.2848296299957108)</td>\n      <td>(illegal_demotion, inf)</td>\n    </tr>\n    <tr>\n      <th>2</th>\n      <td>(train_l2, 0.40203110475624076)</td>\n      <td>(val_l2, 0.27668222781973895)</td>\n      <td>(test_l2, 0.28271215097764374)</td>\n      <td>(illegal_demotion, inf)</td>\n    </tr>\n    <tr>\n      <th>3</th>\n      <td>(train_l2, 0.4020061726126486)</td>\n      <td>(val_l2, 0.2757710641425073)</td>\n      <td>(test_l2, 0.28384843286589256)</td>\n      <td>(illegal_demotion, 0)</td>\n    </tr>\n    <tr>\n      <th>4</th>\n      <td>(train_l2, 0.4008318386852873)</td>\n      <td>(val_l2, 0.2838313343165827)</td>\n      <td>(test_l2, 0.27554828167382117)</td>\n      <td>(illegal_demotion, inf)</td>\n    </tr>\n    <tr>\n      <th>5</th>\n      <td>(train_l2, 0.40053517504521263)</td>\n      <td>(val_l2, 0.2841874075293996)</td>\n      <td>(test_l2, 0.27573396172891046)</td>\n      <td>(illegal_demotion, inf)</td>\n    </tr>\n    <tr>\n      <th>6</th>\n      <td>(train_l2, 0.4003284452414903)</td>\n      <td>(val_l2, 0.2768780955737188)</td>\n      <td>(test_l2, 0.2848296299957108)</td>\n      <td>(illegal_demotion, inf)</td>\n    </tr>\n    <tr>\n      <th>7</th>\n      <td>(train_l2, 0.4014915562848188)</td>\n      <td>(val_l2, 0.2753690812130534)</td>\n      <td>(test_l2, 0.28442120872757126)</td>\n      <td>(illegal_demotion, inf)</td>\n    </tr>\n    <tr>\n      <th>8</th>\n      <td>(train_l2, 0.4003284452414903)</td>\n      <td>(val_l2, 0.2850283085718963)</td>\n      <td>(test_l2, 0.277763623743246)</td>\n      <td>(illegal_demotion, inf)</td>\n    </tr>\n    <tr>\n      <th>9</th>\n      <td>(train_l2, 0.4022115106455984)</td>\n      <td>(val_l2, 0.2751317361428491)</td>\n      <td>(test_l2, 0.2843788492031279)</td>\n      <td>(illegal_demotion, inf)</td>\n    </tr>\n    <tr>\n      <th>10</th>\n      <td>(train_l2, 0.4611619086493232)</td>\n      <td>(val_l2, 0.3558552862705399)</td>\n      <td>(test_l2, 0.28352385655228446)</td>\n      <td>(illegal_demotion, 0)</td>\n    </tr>\n    <tr>\n      <th>11</th>\n      <td>(train_l2, 0.4003284452414903)</td>\n      <td>(val_l2, 0.2854473714794528)</td>\n      <td>(test_l2, 0.2773353960260011)</td>\n      <td>(illegal_demotion, inf)</td>\n    </tr>\n    <tr>\n      <th>12</th>\n      <td>(train_l2, 0.40066920895426034)</td>\n      <td>(val_l2, 0.2760723251509002)</td>\n      <td>(test_l2, 0.283968508239662)</td>\n      <td>(illegal_demotion, inf)</td>\n    </tr>\n    <tr>\n      <th>13</th>\n      <td>(train_l2, 0.400963108478302)</td>\n      <td>(val_l2, 0.28454906969218974)</td>\n      <td>(test_l2, 0.27543338550792185)</td>\n      <td>(illegal_demotion, inf)</td>\n    </tr>\n    <tr>\n      <th>14</th>\n      <td>(train_l2, 0.4011158072129539)</td>\n      <td>(val_l2, 0.2830269182323289)</td>\n      <td>(test_l2, 0.27543338550792185)</td>\n      <td>(illegal_demotion, inf)</td>\n    </tr>\n    <tr>\n      <th>15</th>\n      <td>(train_l2, 0.40111821733198905)</td>\n      <td>(val_l2, 0.27565079455994373)</td>\n      <td>(test_l2, 0.28462657772600464)</td>\n      <td>(illegal_demotion, inf)</td>\n    </tr>\n    <tr>\n      <th>16</th>\n      <td>(train_l2, 0.4286903673034982)</td>\n      <td>(val_l2, 0.31326374028035975)</td>\n      <td>(test_l2, 0.28362206536071854)</td>\n      <td>(illegal_demotion, 0)</td>\n    </tr>\n    <tr>\n      <th>17</th>\n      <td>(train_l2, 0.40139433994522045)</td>\n      <td>(val_l2, 0.27565079455994373)</td>\n      <td>(test_l2, 0.28317114182378)</td>\n      <td>(illegal_demotion, inf)</td>\n    </tr>\n    <tr>\n      <th>18</th>\n      <td>(train_l2, 0.40097628093071364)</td>\n      <td>(val_l2, 0.2757009442268654)</td>\n      <td>(test_l2, 0.28442120872757126)</td>\n      <td>(illegal_demotion, inf)</td>\n    </tr>\n    <tr>\n      <th>19</th>\n      <td>(train_l2, 0.40144420957691546)</td>\n      <td>(val_l2, 0.2753950971371621)</td>\n      <td>(test_l2, 0.2837814766347415)</td>\n      <td>(illegal_demotion, inf)</td>\n    </tr>\n    <tr>\n      <th>20</th>\n      <td>(train_l2, 0.40043047778516727)</td>\n      <td>(val_l2, 0.27677201108268257)</td>\n      <td>(test_l2, 0.2853495252308989)</td>\n      <td>(illegal_demotion, inf)</td>\n    </tr>\n    <tr>\n      <th>21</th>\n      <td>(train_l2, 0.40308199535074446)</td>\n      <td>(val_l2, 0.28602947487981323)</td>\n      <td>(test_l2, 0.27534582477743685)</td>\n      <td>(illegal_demotion, inf)</td>\n    </tr>\n    <tr>\n      <th>22</th>\n      <td>(train_l2, 0.40132927950999947)</td>\n      <td>(val_l2, 0.27613153311188904)</td>\n      <td>(test_l2, 0.28368603244619184)</td>\n      <td>(illegal_demotion, 0)</td>\n    </tr>\n    <tr>\n      <th>23</th>\n      <td>(train_l2, 0.40066920895426034)</td>\n      <td>(val_l2, 0.27618019098592816)</td>\n      <td>(test_l2, 0.2836872053842689)</td>\n      <td>(illegal_demotion, inf)</td>\n    </tr>\n    <tr>\n      <th>24</th>\n      <td>(train_l2, 0.4029946584437939)</td>\n      <td>(val_l2, 0.28657877108965624)</td>\n      <td>(test_l2, 0.27534582477743685)</td>\n      <td>(illegal_demotion, inf)</td>\n    </tr>\n    <tr>\n      <th>25</th>\n      <td>(train_l2, 0.40074575004357504)</td>\n      <td>(val_l2, 0.27583311074788935)</td>\n      <td>(test_l2, 0.28365175262262826)</td>\n      <td>(illegal_demotion, inf)</td>\n    </tr>\n    <tr>\n      <th>26</th>\n      <td>(train_l2, 0.40120924655538787)</td>\n      <td>(val_l2, 0.27677959355015513)</td>\n      <td>(test_l2, 0.28368093848279874)</td>\n      <td>(illegal_demotion, 0)</td>\n    </tr>\n    <tr>\n      <th>27</th>\n      <td>(train_l2, 0.40202022639064294)</td>\n      <td>(val_l2, 0.2829949622046849)</td>\n      <td>(test_l2, 0.2765023410051038)</td>\n      <td>(illegal_demotion, inf)</td>\n    </tr>\n    <tr>\n      <th>28</th>\n      <td>(train_l2, 0.4005914574911296)</td>\n      <td>(val_l2, 0.2833477757939877)</td>\n      <td>(test_l2, 0.27601854918056484)</td>\n      <td>(illegal_demotion, inf)</td>\n    </tr>\n    <tr>\n      <th>29</th>\n      <td>(train_l2, 0.40120924655538787)</td>\n      <td>(val_l2, 0.2764679978805695)</td>\n      <td>(test_l2, 0.28442781396085415)</td>\n      <td>(illegal_demotion, 0)</td>\n    </tr>\n    <tr>\n      <th>30</th>\n      <td>(train_l2, 0.40058145523501437)</td>\n      <td>(val_l2, 0.28355509566765136)</td>\n      <td>(test_l2, 0.2755908302869319)</td>\n      <td>(illegal_demotion, inf)</td>\n    </tr>\n    <tr>\n      <th>31</th>\n      <td>(train_l2, 0.4020061726126486)</td>\n      <td>(val_l2, 0.27522376669775284)</td>\n      <td>(test_l2, 0.28456183829333265)</td>\n      <td>(illegal_demotion, 0)</td>\n    </tr>\n    <tr>\n      <th>32</th>\n      <td>(train_l2, 0.4004798527007755)</td>\n      <td>(val_l2, 0.2763297416075233)</td>\n      <td>(test_l2, 0.2834580024467592)</td>\n      <td>(illegal_demotion, inf)</td>\n    </tr>\n    <tr>\n      <th>33</th>\n      <td>(train_l2, 0.40053517504521263)</td>\n      <td>(val_l2, 0.28411985722050553)</td>\n      <td>(test_l2, 0.27779921452550776)</td>\n      <td>(illegal_demotion, inf)</td>\n    </tr>\n    <tr>\n      <th>34</th>\n      <td>(train_l2, 0.40096783348583764)</td>\n      <td>(val_l2, 0.27628680007329803)</td>\n      <td>(test_l2, 0.28354647020767193)</td>\n      <td>(illegal_demotion, inf)</td>\n    </tr>\n  </tbody>\n</table>\n</div>"
     },
     "execution_count": 8,
     "metadata": {},
     "output_type": "execute_result"
    }
   ],
   "source": [
    "with open(\"solutions.dat\", 'rb') as f:\n",
    "    solutions = pickle.load(f)\n",
    "pd.DataFrame(list(solutions.keys()))"
   ],
   "metadata": {
    "collapsed": false
   }
  },
  {
   "cell_type": "code",
   "execution_count": 17,
   "outputs": [
    {
     "data": {
      "text/plain": "    train_l2    val_l2   test_l2  illegal_demotion\n3   0.402006  0.275771  0.283848               0.0\n10  0.461162  0.355855  0.283524               0.0\n16  0.428690  0.313264  0.283622               0.0\n22  0.401329  0.276132  0.283686               0.0\n26  0.401209  0.276780  0.283681               0.0\n29  0.401209  0.276468  0.284428               0.0\n31  0.402006  0.275224  0.284562               0.0",
      "text/html": "<div>\n<style scoped>\n    .dataframe tbody tr th:only-of-type {\n        vertical-align: middle;\n    }\n\n    .dataframe tbody tr th {\n        vertical-align: top;\n    }\n\n    .dataframe thead th {\n        text-align: right;\n    }\n</style>\n<table border=\"1\" class=\"dataframe\">\n  <thead>\n    <tr style=\"text-align: right;\">\n      <th></th>\n      <th>train_l2</th>\n      <th>val_l2</th>\n      <th>test_l2</th>\n      <th>illegal_demotion</th>\n    </tr>\n  </thead>\n  <tbody>\n    <tr>\n      <th>3</th>\n      <td>0.402006</td>\n      <td>0.275771</td>\n      <td>0.283848</td>\n      <td>0.0</td>\n    </tr>\n    <tr>\n      <th>10</th>\n      <td>0.461162</td>\n      <td>0.355855</td>\n      <td>0.283524</td>\n      <td>0.0</td>\n    </tr>\n    <tr>\n      <th>16</th>\n      <td>0.428690</td>\n      <td>0.313264</td>\n      <td>0.283622</td>\n      <td>0.0</td>\n    </tr>\n    <tr>\n      <th>22</th>\n      <td>0.401329</td>\n      <td>0.276132</td>\n      <td>0.283686</td>\n      <td>0.0</td>\n    </tr>\n    <tr>\n      <th>26</th>\n      <td>0.401209</td>\n      <td>0.276780</td>\n      <td>0.283681</td>\n      <td>0.0</td>\n    </tr>\n    <tr>\n      <th>29</th>\n      <td>0.401209</td>\n      <td>0.276468</td>\n      <td>0.284428</td>\n      <td>0.0</td>\n    </tr>\n    <tr>\n      <th>31</th>\n      <td>0.402006</td>\n      <td>0.275224</td>\n      <td>0.284562</td>\n      <td>0.0</td>\n    </tr>\n  </tbody>\n</table>\n</div>"
     },
     "execution_count": 17,
     "metadata": {},
     "output_type": "execute_result"
    }
   ],
   "source": [
    "lst_df = list(solutions.keys())\n",
    "new_lst = []\n",
    "for vals in lst_df:\n",
    "    hold = {}\n",
    "    for val in vals:\n",
    "        hold[val[0]] = val[1]\n",
    "    new_lst.append(hold)\n",
    "df = pd.DataFrame(new_lst)\n",
    "df = df[df['illegal_demotion'] == 0]\n",
    "df"
   ],
   "metadata": {
    "collapsed": false
   }
  },
  {
   "cell_type": "code",
   "execution_count": 23,
   "outputs": [
    {
     "name": "stdout",
     "output_type": "stream",
     "text": [
      "(('train_l2', 0.4020061726126486), ('val_l2', 0.2757710641425073), ('test_l2', 0.28384843286589256), ('illegal_demotion', 0))\n",
      "\ttrain:  [1, 2, 3, 4, 5, 6, 7, 8, 9, 10, 11, 12, 14, 15, 20, 22, 25, 28, 29, 37, 40, 42, 43, 45, 47, 48, 49, 50, 52, 53, 55, 56, 57, 58, 59, 60]\n",
      "\tval:    [13, 16, 19, 21, 26, 33, 34, 35, 38, 44, 46, 51]\n",
      "\ttest:   [17, 18, 23, 24, 27, 30, 31, 32, 36, 39, 41, 54]\n",
      "(('train_l2', 0.4611619086493232), ('val_l2', 0.3558552862705399), ('test_l2', 0.28352385655228446), ('illegal_demotion', 0))\n",
      "\ttrain:  [1, 2, 3, 4, 5, 6, 7, 8, 9, 10, 11, 12, 13, 14, 15, 21, 23, 24, 25, 26, 30, 31, 34, 35, 36, 37, 39, 41, 43, 44, 45, 46, 47, 48, 51, 52, 53, 54, 56, 57, 60]\n",
      "\tval:    [16, 18, 29, 42, 50, 58, 59]\n",
      "\ttest:   [17, 19, 20, 22, 27, 28, 32, 33, 38, 40, 49, 55]\n",
      "(('train_l2', 0.4286903673034982), ('val_l2', 0.31326374028035975), ('test_l2', 0.28362206536071854), ('illegal_demotion', 0))\n",
      "\ttrain:  [1, 2, 3, 4, 5, 6, 7, 8, 9, 10, 11, 12, 13, 14, 15, 21, 23, 24, 29, 30, 31, 34, 35, 36, 37, 39, 41, 43, 44, 46, 47, 49, 50, 51, 52, 53, 56, 57, 60]\n",
      "\tval:    [16, 17, 26, 42, 45, 48, 54, 58, 59]\n",
      "\ttest:   [18, 19, 20, 22, 25, 27, 28, 32, 33, 38, 40, 55]\n",
      "(('train_l2', 0.40132927950999947), ('val_l2', 0.27613153311188904), ('test_l2', 0.28368603244619184), ('illegal_demotion', 0))\n",
      "\ttrain:  [1, 2, 3, 4, 5, 6, 7, 8, 9, 10, 11, 12, 14, 15, 20, 22, 25, 28, 29, 32, 37, 40, 42, 45, 47, 48, 49, 50, 52, 53, 55, 56, 57, 58, 59, 60]\n",
      "\tval:    [13, 16, 21, 24, 26, 27, 33, 34, 35, 44, 46, 51]\n",
      "\ttest:   [17, 18, 19, 23, 30, 31, 36, 38, 39, 41, 43, 54]\n",
      "(('train_l2', 0.40120924655538787), ('val_l2', 0.27677959355015513), ('test_l2', 0.28368093848279874), ('illegal_demotion', 0))\n",
      "\ttrain:  [1, 2, 3, 4, 5, 6, 7, 8, 9, 10, 11, 12, 14, 20, 21, 22, 24, 28, 29, 37, 40, 42, 43, 45, 47, 48, 49, 50, 52, 53, 55, 56, 57, 58, 59, 60]\n",
      "\tval:    [13, 15, 16, 18, 19, 26, 33, 34, 35, 44, 46, 51]\n",
      "\ttest:   [17, 23, 25, 27, 30, 31, 32, 36, 38, 39, 41, 54]\n",
      "(('train_l2', 0.40120924655538787), ('val_l2', 0.2764679978805695), ('test_l2', 0.28442781396085415), ('illegal_demotion', 0))\n",
      "\ttrain:  [1, 2, 3, 4, 5, 6, 7, 8, 9, 10, 11, 12, 14, 20, 21, 22, 24, 28, 29, 37, 40, 42, 43, 45, 47, 48, 49, 50, 52, 53, 55, 56, 57, 58, 59, 60]\n",
      "\tval:    [13, 15, 16, 17, 18, 19, 26, 33, 34, 44, 46, 51]\n",
      "\ttest:   [23, 25, 27, 30, 31, 32, 35, 36, 38, 39, 41, 54]\n",
      "(('train_l2', 0.4020061726126486), ('val_l2', 0.27522376669775284), ('test_l2', 0.28456183829333265), ('illegal_demotion', 0))\n",
      "\ttrain:  [1, 2, 3, 4, 5, 6, 7, 8, 9, 10, 11, 12, 14, 15, 20, 22, 25, 28, 29, 37, 40, 42, 43, 45, 47, 48, 49, 50, 52, 53, 55, 56, 57, 58, 59, 60]\n",
      "\tval:    [13, 16, 19, 21, 26, 32, 33, 34, 35, 44, 46, 51]\n",
      "\ttest:   [17, 18, 23, 24, 27, 30, 31, 36, 38, 39, 41, 54]\n"
     ]
    }
   ],
   "source": [
    "for i, (key, value) in enumerate(solutions.items()):\n",
    "    if i in [3, 10, 16, 22, 26, 29, 31]:\n",
    "        print(key)\n",
    "        print(\"\\ttrain: \", sorted(value[0]))\n",
    "        print(\"\\tval:   \", sorted(value[1]))\n",
    "        print(\"\\ttest:  \", sorted(value[2]))"
   ],
   "metadata": {
    "collapsed": false
   }
  },
  {
   "cell_type": "code",
   "execution_count": null,
   "outputs": [],
   "source": [
    "PREV_SPLIT = [\n",
    "    {1, 2, 3, 4, 5, 6, 7, 8, 9, 10, 11, 12},\n",
    "    {13, 14, 15, 16},\n",
    "    {17, 18, 19, 20},\n",
    "]"
   ],
   "metadata": {
    "collapsed": false
   }
  },
  {
   "cell_type": "code",
   "execution_count": 5,
   "outputs": [
    {
     "data": {
      "text/plain": "dict"
     },
     "execution_count": 5,
     "metadata": {},
     "output_type": "execute_result"
    }
   ],
   "source": [
    "type(solutions)"
   ],
   "metadata": {
    "collapsed": false
   }
  },
  {
   "cell_type": "code",
   "execution_count": 64,
   "outputs": [],
   "source": [
    "rows = 10\n",
    "df = pd.DataFrame({  # 10 letters\n",
    "    \"source\": [i for i in range(1, rows + 1)],\n",
    "    \"metadata_a\": np.random.rand(rows),\n",
    "    \"metadata_b\": np.random.normal(10, 3, size=rows),\n",
    "    \"metadata_c\": np.random.normal(1_000, 100, size=rows),\n",
    "    \"metadata_d\": np.random.zipf(1.2, size=rows),\n",
    "    \"metadata_e\": [i for i in range(1, rows + 1)],\n",
    "    \"metadata_f\": [i if i % 2 == 0 else 0 for i in range(1, rows + 1)],\n",
    "    \"metadata_g\": [i if i % rows == 0 else 0 for i in range(1, rows + 1)],\n",
    "    \"metadata_h\": np.random.triangular(0, 500, 600, size=rows),\n",
    "    \"metadata_i\": np.random.uniform(100, 10_000, size=rows),\n",
    "    \"metadata_j\": np.random.poisson(10, size=rows),\n",
    "}).set_index(\"source\")"
   ],
   "metadata": {
    "collapsed": false
   }
  },
  {
   "cell_type": "code",
   "execution_count": 56,
   "outputs": [],
   "source": [
    "df = df.set_index('source')"
   ],
   "metadata": {
    "collapsed": false
   }
  },
  {
   "cell_type": "code",
   "execution_count": 65,
   "outputs": [
    {
     "data": {
      "text/plain": "        metadata_a  metadata_b   metadata_c  metadata_d  metadata_e  \\\nsource                                                                \n1         0.191911    6.635452   992.192524           3           1   \n2         0.789075    6.684416   977.849561           1           2   \n3         0.756776    7.324608  1050.326083         223           3   \n4         0.995538    9.424914   914.193873           5           4   \n5         0.170121    9.666792   941.983419        1118           5   \n6         0.853976    8.870259  1188.559222          19           6   \n7         0.251493    8.706518   947.809954          11           7   \n\n        metadata_f  metadata_g  metadata_h   metadata_i  metadata_j  \nsource                                                               \n1                0           0  346.495423  6212.395176           6  \n2                2           0  384.180954  4835.627832           9  \n3                0           0  509.553629  3642.472846           8  \n4                4           0  389.372205  7787.500498           9  \n5                0           0  531.086711  6749.289625          12  \n6                6           0  135.814256  6571.571554          11  \n7                0           0  244.700373  5737.720986           9  ",
      "text/html": "<div>\n<style scoped>\n    .dataframe tbody tr th:only-of-type {\n        vertical-align: middle;\n    }\n\n    .dataframe tbody tr th {\n        vertical-align: top;\n    }\n\n    .dataframe thead th {\n        text-align: right;\n    }\n</style>\n<table border=\"1\" class=\"dataframe\">\n  <thead>\n    <tr style=\"text-align: right;\">\n      <th></th>\n      <th>metadata_a</th>\n      <th>metadata_b</th>\n      <th>metadata_c</th>\n      <th>metadata_d</th>\n      <th>metadata_e</th>\n      <th>metadata_f</th>\n      <th>metadata_g</th>\n      <th>metadata_h</th>\n      <th>metadata_i</th>\n      <th>metadata_j</th>\n    </tr>\n    <tr>\n      <th>source</th>\n      <th></th>\n      <th></th>\n      <th></th>\n      <th></th>\n      <th></th>\n      <th></th>\n      <th></th>\n      <th></th>\n      <th></th>\n      <th></th>\n    </tr>\n  </thead>\n  <tbody>\n    <tr>\n      <th>1</th>\n      <td>0.191911</td>\n      <td>6.635452</td>\n      <td>992.192524</td>\n      <td>3</td>\n      <td>1</td>\n      <td>0</td>\n      <td>0</td>\n      <td>346.495423</td>\n      <td>6212.395176</td>\n      <td>6</td>\n    </tr>\n    <tr>\n      <th>2</th>\n      <td>0.789075</td>\n      <td>6.684416</td>\n      <td>977.849561</td>\n      <td>1</td>\n      <td>2</td>\n      <td>2</td>\n      <td>0</td>\n      <td>384.180954</td>\n      <td>4835.627832</td>\n      <td>9</td>\n    </tr>\n    <tr>\n      <th>3</th>\n      <td>0.756776</td>\n      <td>7.324608</td>\n      <td>1050.326083</td>\n      <td>223</td>\n      <td>3</td>\n      <td>0</td>\n      <td>0</td>\n      <td>509.553629</td>\n      <td>3642.472846</td>\n      <td>8</td>\n    </tr>\n    <tr>\n      <th>4</th>\n      <td>0.995538</td>\n      <td>9.424914</td>\n      <td>914.193873</td>\n      <td>5</td>\n      <td>4</td>\n      <td>4</td>\n      <td>0</td>\n      <td>389.372205</td>\n      <td>7787.500498</td>\n      <td>9</td>\n    </tr>\n    <tr>\n      <th>5</th>\n      <td>0.170121</td>\n      <td>9.666792</td>\n      <td>941.983419</td>\n      <td>1118</td>\n      <td>5</td>\n      <td>0</td>\n      <td>0</td>\n      <td>531.086711</td>\n      <td>6749.289625</td>\n      <td>12</td>\n    </tr>\n    <tr>\n      <th>6</th>\n      <td>0.853976</td>\n      <td>8.870259</td>\n      <td>1188.559222</td>\n      <td>19</td>\n      <td>6</td>\n      <td>6</td>\n      <td>0</td>\n      <td>135.814256</td>\n      <td>6571.571554</td>\n      <td>11</td>\n    </tr>\n    <tr>\n      <th>7</th>\n      <td>0.251493</td>\n      <td>8.706518</td>\n      <td>947.809954</td>\n      <td>11</td>\n      <td>7</td>\n      <td>0</td>\n      <td>0</td>\n      <td>244.700373</td>\n      <td>5737.720986</td>\n      <td>9</td>\n    </tr>\n  </tbody>\n</table>\n</div>"
     },
     "execution_count": 65,
     "metadata": {},
     "output_type": "execute_result"
    }
   ],
   "source": [
    "df.loc[[1,2,3,4,5,6,7]]"
   ],
   "metadata": {
    "collapsed": false
   }
  },
  {
   "cell_type": "code",
   "execution_count": 59,
   "outputs": [],
   "source": [
    "def calculate_l2_norm(data, train: List, val: List, test: List, target_train: float, target_val: float, target_test: float) -> Tuple[float, float, float]:\n",
    "    \"\"\"\n",
    "    Calculate the L2 norm of the data split\n",
    "    :param data: Dataframe containing raw data\n",
    "    :param train: rows to include in training set\n",
    "    :param val: rows to include in validation set\n",
    "    :param test: rows to include in test set\n",
    "    :param target_train: target train split percentage\n",
    "    :param target_val: target validation split percentage\n",
    "    :param target_test: target test split percentage\n",
    "    :return: tuple of train, val, and test L2 norm\n",
    "    \"\"\"\n",
    "    assert abs((target_test + target_val + target_train)-1) < 0.000000001\n",
    "    assert len(train) + len(val) + len(test) == len(data)\n",
    "    assert len(set(train).intersection(set(val))) == 0\n",
    "    assert len(set(train).intersection(set(test))) == 0\n",
    "    assert len(set(val).intersection(set(test))) == 0\n",
    "\n",
    "    data_total = data.sum(axis=0)\n",
    "\n",
    "    train_l2 = np.linalg.norm((data.loc[train].sum(axis=0) / data_total) - target_train)\n",
    "    val_l2 = np.linalg.norm((data.loc[val].sum(axis=0) / data_total) - target_val)\n",
    "    test_l2 = np.linalg.norm((data.loc[test].sum(axis=0) / data_total) - target_test)\n",
    "\n",
    "    return train_l2, val_l2, test_l2"
   ],
   "metadata": {
    "collapsed": false
   }
  },
  {
   "cell_type": "code",
   "execution_count": 63,
   "outputs": [
    {
     "data": {
      "text/plain": "(0.8736013171066626, 0.4792653002613879, 0.9436256865968002)"
     },
     "execution_count": 63,
     "metadata": {},
     "output_type": "execute_result"
    }
   ],
   "source": [
    "calculate_l2_norm(df, [1,2,3,4,6,7], [8,5,9], [10], 0.7, 0.2, 0.1)"
   ],
   "metadata": {
    "collapsed": false
   }
  },
  {
   "cell_type": "code",
   "execution_count": 28,
   "outputs": [
    {
     "data": {
      "text/plain": "Decimal('0.9999999999999999722444243843')"
     },
     "execution_count": 28,
     "metadata": {},
     "output_type": "execute_result"
    }
   ],
   "source": [
    "Decimal(0.7) + Decimal(0.2) + Decimal(0.1)"
   ],
   "metadata": {
    "collapsed": false
   }
  },
  {
   "cell_type": "code",
   "execution_count": 31,
   "outputs": [
    {
     "data": {
      "text/plain": "True"
     },
     "execution_count": 31,
     "metadata": {},
     "output_type": "execute_result"
    }
   ],
   "source": [
    "abs((0.7 + 0.2 + 0.1)-1) < 0.0000001"
   ],
   "metadata": {
    "collapsed": false
   }
  },
  {
   "cell_type": "code",
   "execution_count": 100,
   "outputs": [
    {
     "data": {
      "text/plain": "(2, 0)"
     },
     "execution_count": 100,
     "metadata": {},
     "output_type": "execute_result"
    }
   ],
   "source": [
    "split1, split2 = random.sample(range(len(sol)), 2)\n",
    "split1, split2"
   ],
   "metadata": {
    "collapsed": false
   }
  },
  {
   "cell_type": "code",
   "execution_count": 101,
   "outputs": [
    {
     "data": {
      "text/plain": "[[1, 2, 7, 4], [5, 6, 3, 8]]"
     },
     "execution_count": 101,
     "metadata": {},
     "output_type": "execute_result"
    }
   ],
   "source": [
    "x = [[1,2,3,4],[5,6,7,8]]\n",
    "x[0][2], x[1][2] = x[1][2], x[0][2]\n",
    "x"
   ],
   "metadata": {
    "collapsed": false
   }
  },
  {
   "cell_type": "code",
   "execution_count": 122,
   "outputs": [],
   "source": [
    "def swap_between_splits(sol):\n",
    "    \"\"\"\n",
    "    Swap a random row from one split to another\n",
    "    :param sol: solution to mutate\n",
    "    :return: mutated solution\n",
    "    \"\"\"\n",
    "    split1, split2 = random.sample(range(len(sol)), 2)\n",
    "    print(split1, split2)\n",
    "    if len(sol[split1]) == 0 or len(sol[split2]) == 0:\n",
    "        return sol\n",
    "    row1_idx = random.randint(0, len(sol[split1]) - 1)\n",
    "    row2_idx = random.randint(0, len(sol[split2]) - 1)\n",
    "    sol[split1][row1_idx], sol[split2][row2_idx] = sol[split2][row2_idx], sol[split1][row1_idx]\n",
    "\n",
    "    return sol"
   ],
   "metadata": {
    "collapsed": false
   }
  },
  {
   "cell_type": "code",
   "execution_count": 135,
   "outputs": [],
   "source": [
    "def move_row(sol):\n",
    "    \"\"\"\n",
    "    Move a random row from one split to another\n",
    "    :param sol: solution to mutate\n",
    "    :return: mutated solution\n",
    "    \"\"\"\n",
    "    split1, split2 = random.sample(range(len(sol)), 2)\n",
    "    print(split1, split2)\n",
    "    if len(sol[split1]) == 0:\n",
    "        return sol\n",
    "    row_idx = random.randint(0, len(sol[split1]) - 1)\n",
    "    sol[split2].append(sol[split1].pop(row_idx))\n",
    "\n",
    "    return sol"
   ],
   "metadata": {
    "collapsed": false
   }
  },
  {
   "cell_type": "code",
   "execution_count": 144,
   "outputs": [
    {
     "data": {
      "text/plain": "[2, 7, 9, 3, 1, 5, 4, 10, 8, 6]"
     },
     "execution_count": 144,
     "metadata": {},
     "output_type": "execute_result"
    }
   ],
   "source": [
    "base = [1,2,3,4,5,6,7,8,9,10]\n",
    "random.shuffle(base)\n",
    "base"
   ],
   "metadata": {
    "collapsed": false
   }
  },
  {
   "cell_type": "code",
   "execution_count": 107,
   "outputs": [],
   "source": [
    "# sol = [[1,2,3,4,5,6,7], [8,9,10], []]"
   ],
   "metadata": {
    "collapsed": false
   }
  },
  {
   "cell_type": "code",
   "execution_count": 142,
   "outputs": [
    {
     "name": "stdout",
     "output_type": "stream",
     "text": [
      "0 1\n"
     ]
    },
    {
     "data": {
      "text/plain": "[[1, 2, 4, 5, 6, 7], [8, 9, 10, 3], []]"
     },
     "execution_count": 142,
     "metadata": {},
     "output_type": "execute_result"
    }
   ],
   "source": [
    "sol = [[1,2,3,4,5,6,7], [8,9,10], []]\n",
    "move_row(sol)"
   ],
   "metadata": {
    "collapsed": false
   }
  },
  {
   "cell_type": "code",
   "execution_count": 183,
   "outputs": [
    {
     "data": {
      "text/plain": "array([[3., 6., 1.]])"
     },
     "execution_count": 183,
     "metadata": {},
     "output_type": "execute_result"
    }
   ],
   "source": [
    "a = np.random.dirichlet(np.ones(3), size=1)\n",
    "a = np.round(a*10)\n",
    "a"
   ],
   "metadata": {
    "collapsed": false
   }
  },
  {
   "cell_type": "code",
   "execution_count": 179,
   "outputs": [
    {
     "data": {
      "text/plain": "[1, 2, 3, 4, 5, 6, 7, 8, 9, 10]"
     },
     "execution_count": 179,
     "metadata": {},
     "output_type": "execute_result"
    }
   ],
   "source": [
    "sol = list(range(1, 11))\n",
    "sol"
   ],
   "metadata": {
    "collapsed": false
   }
  },
  {
   "cell_type": "code",
   "execution_count": 186,
   "outputs": [
    {
     "data": {
      "text/plain": "([1, 2, 3], [4, 5, 6, 7, 8, 9], [10])"
     },
     "execution_count": 186,
     "metadata": {},
     "output_type": "execute_result"
    }
   ],
   "source": [
    "sol[0: int(a[0][0])], sol[int(a[0][0]): int(a[0][1])+int(a[0][0])], sol[int(a[0][1])+int(a[0][0]): int(a[0][1])+int(a[0][0])+int(a[0][2])]"
   ],
   "metadata": {
    "collapsed": false
   }
  },
  {
   "cell_type": "code",
   "execution_count": 173,
   "outputs": [
    {
     "data": {
      "text/plain": "[[1, 2, 4, 5, 6, 7], [8, 9, 10, 3], []]"
     },
     "execution_count": 173,
     "metadata": {},
     "output_type": "execute_result"
    }
   ],
   "source": [
    "sol"
   ],
   "metadata": {
    "collapsed": false
   }
  },
  {
   "cell_type": "code",
   "execution_count": 193,
   "outputs": [
    {
     "name": "stdout",
     "output_type": "stream",
     "text": [
      "[[4, 5, 10, 7, 9], [6, 2, 8, 1, 3], []]\n",
      "[[9, 6, 2, 5, 4, 3], [8, 10, 1, 7], []]\n",
      "[[9, 4, 10, 2], [5, 3, 8, 6], [1, 7]]\n",
      "[[7, 5, 4], [8], [10, 6, 2, 3, 9, 1]]\n",
      "[[5, 3, 10], [1], [9, 7, 4, 2, 6, 8]]\n",
      "[[5], [1, 6, 10, 2, 3, 8, 4, 9], [7]]\n",
      "[[9, 8], [3, 10, 6], [2, 1, 4, 7, 5]]\n",
      "[[9, 7, 2, 4, 1, 3, 5, 10], [6], [8]]\n",
      "[[9, 10], [7, 3, 1, 5], [2, 4, 8, 6]]\n",
      "[[7, 2, 9], [3], [10, 1, 4, 5, 6, 8]]\n"
     ]
    }
   ],
   "source": [
    "for _ in range(10):\n",
    "    base = list(range(1, rows+1))\n",
    "    random.shuffle(base)\n",
    "    while True:\n",
    "        a = np.random.dirichlet(np.ones(3), size=1)\n",
    "        a = np.round(a * 10)\n",
    "        if sum(a[0]) == rows:\n",
    "            break\n",
    "    x, y, z = base[0: int(a[0][0])], base[int(a[0][0]): int(a[0][1]) + int(a[0][0])], \\\n",
    "        base[int(a[0][1]) + int(a[0][0]): int(a[0][1]) + int(a[0][0]) + int(a[0][2])]\n",
    "    print([x, y, z])"
   ],
   "metadata": {
    "collapsed": false
   }
  },
  {
   "cell_type": "code",
   "execution_count": 196,
   "outputs": [],
   "source": [
    "with open('solutions.dat', 'rb') as f:\n",
    "    solutions = pickle.load(f)"
   ],
   "metadata": {
    "collapsed": false
   }
  },
  {
   "cell_type": "code",
   "execution_count": 202,
   "outputs": [
    {
     "ename": "KeyError",
     "evalue": "0",
     "output_type": "error",
     "traceback": [
      "\u001B[1;31m---------------------------------------------------------------------------\u001B[0m",
      "\u001B[1;31mKeyError\u001B[0m                                  Traceback (most recent call last)",
      "Cell \u001B[1;32mIn[202], line 1\u001B[0m\n\u001B[1;32m----> 1\u001B[0m \u001B[43msolutions\u001B[49m\u001B[43m[\u001B[49m\u001B[38;5;241;43m0\u001B[39;49m\u001B[43m]\u001B[49m\n",
      "\u001B[1;31mKeyError\u001B[0m: 0"
     ]
    }
   ],
   "source": [],
   "metadata": {
    "collapsed": false
   }
  },
  {
   "cell_type": "code",
   "execution_count": 204,
   "outputs": [
    {
     "name": "stdout",
     "output_type": "stream",
     "text": [
      "(('train_l2', 0.4135696539848512), ('val_l2', 0.2415971549184231), ('test_l2', 0.20272846836158245))\n",
      "(('train_l2', 0.41367327078419563), ('val_l2', 0.24244094433266425), ('test_l2', 0.20252819672301262))\n",
      "(('train_l2', 0.41335834547131894), ('val_l2', 0.24156501801506497), ('test_l2', 0.20274269804259246))\n",
      "(('train_l2', 0.4132790317665711), ('val_l2', 0.20277477768665922), ('test_l2', 0.24220985858275143))\n",
      "(('train_l2', 0.4132603862693192), ('val_l2', 0.24149793233051595), ('test_l2', 0.2030401019190291))\n",
      "(('train_l2', 0.4135206332262364), ('val_l2', 0.24254117974185385), ('test_l2', 0.20273910108438328))\n",
      "(('train_l2', 0.4137106367698085), ('val_l2', 0.24244094433266425), ('test_l2', 0.20251677480820768))\n",
      "(('train_l2', 0.4133011400246991), ('val_l2', 0.20273329286521302), ('test_l2', 0.24237102648396408))\n",
      "(('train_l2', 0.4133590369777933), ('val_l2', 0.20271648339480527), ('test_l2', 0.24237102648396408))\n",
      "(('train_l2', 0.4134172871956188), ('val_l2', 0.24149793233051595), ('test_l2', 0.2028559432036252))\n",
      "(('train_l2', 0.4135245108191139), ('val_l2', 0.24197618937734236), ('test_l2', 0.20269848762398343))\n",
      "(('train_l2', 0.41342900167650803), ('val_l2', 0.241520046112469), ('test_l2', 0.20277896104365412))\n",
      "(('train_l2', 0.4132723639782765), ('val_l2', 0.202846351830997), ('test_l2', 0.24222772716849753))\n",
      "(('train_l2', 0.4136556459371639), ('val_l2', 0.24230175366576726), ('test_l2', 0.20260625978773056))\n",
      "(('train_l2', 0.7053364221589339), ('val_l2', 0.5849290410923915), ('test_l2', 0.20248992344058592))\n",
      "(('train_l2', 0.41363677969734786), ('val_l2', 0.24233103119196328), ('test_l2', 0.20263060369951427))\n",
      "(('train_l2', 0.4132723639782765), ('val_l2', 0.20277023523593182), ('test_l2', 0.24224857004287972))\n",
      "(('train_l2', 0.41368396082264436), ('val_l2', 0.2422385273787074), ('test_l2', 0.20261744822280434))\n",
      "(('train_l2', 0.4135533078666104), ('val_l2', 0.24152425808054606), ('test_l2', 0.20276962252104636))\n",
      "(('train_l2', 0.41369462729249373), ('val_l2', 0.2422388600855672), ('test_l2', 0.202563540952233))\n",
      "(('train_l2', 0.41373772163781825), ('val_l2', 0.24227151110503567), ('test_l2', 0.20256338068784682))\n",
      "(('train_l2', 0.41326388763468214), ('val_l2', 0.24141637051240109), ('test_l2', 0.20288695082511243))\n",
      "(('train_l2', 0.41519403862544835), ('val_l2', 0.24547010569280137), ('test_l2', 0.2024989695039378))\n",
      "(('train_l2', 0.41342963293948687), ('val_l2', 0.20319407166775755), ('test_l2', 0.24217624228431991))\n",
      "(('train_l2', 0.4137152282845179), ('val_l2', 0.20408795151045564), ('test_l2', 0.24215861382224108))\n",
      "(('train_l2', 0.41342029049460777), ('val_l2', 0.24134734034179858), ('test_l2', 0.202948913516391))\n",
      "(('train_l2', 0.4132475705066772), ('val_l2', 0.20285673429366372), ('test_l2', 0.24237102648396408))\n",
      "(('train_l2', 0.41355501455519283), ('val_l2', 0.24191170793760403), ('test_l2', 0.2027126179929951))\n",
      "(('train_l2', 0.41366898713846617), ('val_l2', 0.24244094433266425), ('test_l2', 0.202528762274829))\n",
      "(('train_l2', 0.41366304551020816), ('val_l2', 0.2422388600855672), ('test_l2', 0.2026587661001961))\n",
      "(('train_l2', 0.41334404295907456), ('val_l2', 0.24156501801506497), ('test_l2', 0.20277896104365412))\n",
      "(('train_l2', 0.41556406944029955), ('val_l2', 0.24636781470444138), ('test_l2', 0.20249567579069763))\n",
      "(('train_l2', 0.4136938506990915), ('val_l2', 0.24217729067747668), ('test_l2', 0.20260708977876554))\n"
     ]
    }
   ],
   "source": [
    "for i, val in solutions.items():\n",
    "    print(i)"
   ],
   "metadata": {
    "collapsed": false
   }
  },
  {
   "cell_type": "code",
   "execution_count": 199,
   "outputs": [
    {
     "data": {
      "text/plain": "{(('train_l2', 0.4135696539848512),\n  ('val_l2', 0.2415971549184231),\n  ('test_l2', 0.20272846836158245)): [[230,\n   255,\n   108,\n   40,\n   300,\n   151,\n   110,\n   145,\n   158,\n   28,\n   236,\n   227,\n   203,\n   31,\n   64,\n   262,\n   263,\n   174,\n   88,\n   171,\n   235,\n   136,\n   289,\n   89,\n   127,\n   226,\n   113,\n   5,\n   223,\n   16,\n   77,\n   280,\n   261,\n   277,\n   102,\n   95,\n   246,\n   259,\n   74,\n   238,\n   161,\n   182,\n   290,\n   100,\n   169,\n   240,\n   228,\n   298,\n   98,\n   162,\n   215,\n   32,\n   124,\n   291,\n   15,\n   45,\n   282,\n   57,\n   14,\n   155,\n   1,\n   84,\n   96,\n   150,\n   38,\n   149,\n   271,\n   75,\n   188,\n   199,\n   231,\n   109,\n   210,\n   21,\n   168,\n   91,\n   250,\n   107,\n   53,\n   72,\n   195,\n   153,\n   132,\n   115,\n   78,\n   65,\n   29,\n   119,\n   10,\n   243,\n   206,\n   216,\n   198,\n   44,\n   229,\n   129,\n   173,\n   36,\n   217,\n   224,\n   125,\n   253,\n   58,\n   79,\n   205,\n   248,\n   141,\n   76,\n   67,\n   140,\n   295,\n   99,\n   208,\n   97,\n   152,\n   211,\n   187,\n   34,\n   272,\n   52,\n   48,\n   92,\n   23,\n   181,\n   278,\n   269,\n   71,\n   172,\n   245,\n   24,\n   154,\n   283,\n   26,\n   103,\n   260,\n   214,\n   164,\n   297,\n   42,\n   247,\n   212,\n   94,\n   27,\n   86,\n   209,\n   218,\n   241,\n   93,\n   232,\n   166,\n   126,\n   49,\n   133,\n   274,\n   268,\n   73,\n   142,\n   273,\n   81,\n   9,\n   204,\n   265,\n   118,\n   220,\n   139,\n   185,\n   294,\n   221,\n   63,\n   41,\n   104,\n   70,\n   157,\n   192,\n   56,\n   200,\n   264,\n   207,\n   287],\n  [244,\n   8,\n   233,\n   219,\n   18,\n   213,\n   43,\n   33,\n   197,\n   178,\n   146,\n   3,\n   242,\n   128,\n   288,\n   106,\n   179,\n   22,\n   193,\n   55,\n   25,\n   281,\n   114,\n   143,\n   170,\n   134,\n   121,\n   11,\n   7,\n   83,\n   61,\n   116,\n   222,\n   251,\n   234,\n   279,\n   120,\n   284,\n   6,\n   202,\n   275,\n   111,\n   112,\n   62,\n   167,\n   19,\n   256,\n   2,\n   60,\n   35,\n   225,\n   194,\n   135,\n   80,\n   293,\n   296,\n   276,\n   299,\n   54,\n   4,\n   50,\n   85],\n  [258,\n   68,\n   66,\n   20,\n   285,\n   180,\n   13,\n   87,\n   137,\n   82,\n   148,\n   138,\n   163,\n   266,\n   30,\n   177,\n   257,\n   196,\n   292,\n   252,\n   39,\n   190,\n   69,\n   249,\n   147,\n   122,\n   59,\n   130,\n   105,\n   189,\n   12,\n   101,\n   270,\n   47,\n   17,\n   159,\n   156,\n   183,\n   131,\n   123,\n   191,\n   286,\n   46,\n   160,\n   176,\n   51,\n   201,\n   165,\n   186,\n   117,\n   184,\n   175,\n   90,\n   239,\n   254,\n   267,\n   237,\n   144,\n   37]],\n (('train_l2', 0.41367327078419563),\n  ('val_l2', 0.24244094433266425),\n  ('test_l2', 0.20252819672301262)): [[230,\n   255,\n   108,\n   40,\n   300,\n   151,\n   110,\n   145,\n   163,\n   28,\n   236,\n   227,\n   203,\n   31,\n   64,\n   262,\n   263,\n   37,\n   174,\n   88,\n   4,\n   235,\n   136,\n   289,\n   89,\n   127,\n   226,\n   113,\n   242,\n   135,\n   16,\n   77,\n   280,\n   261,\n   277,\n   102,\n   95,\n   246,\n   259,\n   74,\n   238,\n   161,\n   182,\n   290,\n   100,\n   169,\n   51,\n   228,\n   298,\n   98,\n   162,\n   215,\n   32,\n   124,\n   291,\n   15,\n   285,\n   282,\n   57,\n   237,\n   14,\n   155,\n   1,\n   84,\n   293,\n   150,\n   38,\n   149,\n   271,\n   75,\n   188,\n   143,\n   231,\n   109,\n   210,\n   21,\n   168,\n   91,\n   250,\n   116,\n   53,\n   72,\n   195,\n   39,\n   132,\n   115,\n   78,\n   65,\n   29,\n   119,\n   10,\n   243,\n   206,\n   216,\n   198,\n   44,\n   229,\n   129,\n   173,\n   217,\n   224,\n   125,\n   253,\n   58,\n   79,\n   47,\n   205,\n   248,\n   141,\n   76,\n   67,\n   140,\n   295,\n   99,\n   208,\n   97,\n   152,\n   211,\n   187,\n   178,\n   272,\n   52,\n   48,\n   92,\n   23,\n   181,\n   278,\n   107,\n   71,\n   172,\n   245,\n   24,\n   154,\n   283,\n   26,\n   103,\n   260,\n   214,\n   234,\n   297,\n   42,\n   247,\n   212,\n   94,\n   27,\n   86,\n   209,\n   218,\n   241,\n   93,\n   232,\n   126,\n   49,\n   133,\n   274,\n   268,\n   73,\n   142,\n   111,\n   81,\n   9,\n   204,\n   265,\n   118,\n   220,\n   139,\n   185,\n   294,\n   221,\n   63,\n   41,\n   104,\n   70,\n   157,\n   192,\n   56,\n   200,\n   7,\n   134,\n   96],\n  [244,\n   8,\n   233,\n   219,\n   18,\n   264,\n   213,\n   43,\n   33,\n   197,\n   34,\n   146,\n   3,\n   252,\n   288,\n   106,\n   45,\n   22,\n   153,\n   36,\n   25,\n   281,\n   114,\n   199,\n   170,\n   121,\n   11,\n   83,\n   61,\n   269,\n   222,\n   251,\n   164,\n   68,\n   120,\n   284,\n   6,\n   202,\n   275,\n   273,\n   112,\n   62,\n   167,\n   19,\n   256,\n   207,\n   2,\n   60,\n   35,\n   225,\n   194,\n   223,\n   80,\n   296,\n   276,\n   299,\n   54,\n   171,\n   50,\n   85,\n   166],\n  [258,\n   279,\n   66,\n   20,\n   179,\n   180,\n   13,\n   87,\n   287,\n   137,\n   144,\n   148,\n   138,\n   158,\n   266,\n   30,\n   177,\n   257,\n   196,\n   292,\n   128,\n   193,\n   190,\n   69,\n   249,\n   147,\n   122,\n   59,\n   130,\n   105,\n   189,\n   12,\n   101,\n   270,\n   82,\n   17,\n   159,\n   156,\n   183,\n   131,\n   123,\n   191,\n   286,\n   46,\n   160,\n   176,\n   240,\n   201,\n   165,\n   186,\n   117,\n   184,\n   175,\n   90,\n   239,\n   254,\n   267,\n   5,\n   55]],\n (('train_l2', 0.41335834547131894),\n  ('val_l2', 0.24156501801506497),\n  ('test_l2', 0.20274269804259246)): [[230,\n   255,\n   258,\n   40,\n   300,\n   151,\n   110,\n   145,\n   158,\n   28,\n   236,\n   227,\n   203,\n   31,\n   64,\n   262,\n   263,\n   174,\n   88,\n   171,\n   235,\n   136,\n   289,\n   89,\n   127,\n   226,\n   113,\n   5,\n   223,\n   16,\n   77,\n   280,\n   261,\n   277,\n   102,\n   95,\n   246,\n   259,\n   74,\n   238,\n   161,\n   182,\n   290,\n   100,\n   169,\n   51,\n   228,\n   298,\n   98,\n   162,\n   215,\n   32,\n   124,\n   291,\n   15,\n   45,\n   282,\n   57,\n   14,\n   155,\n   1,\n   84,\n   96,\n   150,\n   38,\n   149,\n   271,\n   75,\n   188,\n   199,\n   231,\n   109,\n   210,\n   21,\n   168,\n   91,\n   250,\n   107,\n   53,\n   195,\n   153,\n   132,\n   115,\n   78,\n   65,\n   29,\n   119,\n   10,\n   243,\n   206,\n   216,\n   198,\n   44,\n   229,\n   129,\n   173,\n   36,\n   217,\n   224,\n   125,\n   253,\n   58,\n   79,\n   205,\n   248,\n   141,\n   76,\n   67,\n   140,\n   295,\n   99,\n   208,\n   97,\n   152,\n   211,\n   187,\n   34,\n   272,\n   52,\n   48,\n   92,\n   23,\n   181,\n   278,\n   269,\n   71,\n   172,\n   245,\n   24,\n   154,\n   283,\n   26,\n   103,\n   260,\n   214,\n   164,\n   297,\n   42,\n   247,\n   212,\n   94,\n   27,\n   86,\n   209,\n   218,\n   241,\n   93,\n   232,\n   166,\n   126,\n   49,\n   33,\n   274,\n   268,\n   73,\n   142,\n   273,\n   81,\n   9,\n   204,\n   265,\n   118,\n   220,\n   139,\n   185,\n   294,\n   221,\n   63,\n   41,\n   104,\n   70,\n   157,\n   192,\n   56,\n   200,\n   264,\n   207,\n   287],\n  [244,\n   8,\n   233,\n   219,\n   18,\n   213,\n   43,\n   133,\n   197,\n   178,\n   146,\n   3,\n   242,\n   128,\n   288,\n   106,\n   179,\n   22,\n   193,\n   55,\n   25,\n   281,\n   114,\n   143,\n   170,\n   134,\n   121,\n   11,\n   7,\n   83,\n   61,\n   116,\n   222,\n   251,\n   234,\n   279,\n   120,\n   284,\n   6,\n   202,\n   275,\n   111,\n   112,\n   62,\n   167,\n   19,\n   256,\n   2,\n   60,\n   35,\n   225,\n   194,\n   135,\n   80,\n   293,\n   296,\n   276,\n   299,\n   54,\n   4,\n   50,\n   85,\n   72],\n  [108,\n   68,\n   66,\n   20,\n   285,\n   180,\n   13,\n   87,\n   137,\n   82,\n   148,\n   138,\n   163,\n   266,\n   30,\n   177,\n   257,\n   196,\n   292,\n   252,\n   39,\n   190,\n   69,\n   249,\n   147,\n   122,\n   59,\n   130,\n   105,\n   189,\n   12,\n   101,\n   270,\n   47,\n   17,\n   159,\n   156,\n   183,\n   131,\n   123,\n   191,\n   286,\n   46,\n   160,\n   176,\n   240,\n   201,\n   165,\n   186,\n   117,\n   184,\n   175,\n   90,\n   239,\n   254,\n   267,\n   237,\n   144,\n   37]],\n (('train_l2', 0.4132790317665711),\n  ('val_l2', 0.20277477768665922),\n  ('test_l2', 0.24220985858275143)): [[134,\n   255,\n   108,\n   40,\n   300,\n   151,\n   70,\n   145,\n   243,\n   236,\n   191,\n   203,\n   31,\n   64,\n   262,\n   263,\n   147,\n   174,\n   88,\n   171,\n   235,\n   136,\n   289,\n   89,\n   127,\n   226,\n   113,\n   210,\n   105,\n   114,\n   96,\n   77,\n   200,\n   261,\n   277,\n   102,\n   246,\n   259,\n   30,\n   238,\n   69,\n   182,\n   290,\n   100,\n   275,\n   51,\n   298,\n   98,\n   144,\n   215,\n   32,\n   296,\n   124,\n   291,\n   15,\n   45,\n   282,\n   57,\n   237,\n   14,\n   155,\n   1,\n   84,\n   287,\n   150,\n   38,\n   149,\n   271,\n   75,\n   188,\n   126,\n   254,\n   170,\n   109,\n   90,\n   193,\n   21,\n   168,\n   250,\n   233,\n   53,\n   72,\n   195,\n   39,\n   132,\n   115,\n   78,\n   65,\n   29,\n   165,\n   10,\n   91,\n   206,\n   216,\n   198,\n   44,\n   284,\n   173,\n   55,\n   217,\n   224,\n   47,\n   125,\n   253,\n   58,\n   79,\n   82,\n   205,\n   248,\n   112,\n   76,\n   110,\n   295,\n   192,\n   4,\n   208,\n   97,\n   152,\n   211,\n   187,\n   34,\n   272,\n   52,\n   48,\n   92,\n   23,\n   181,\n   278,\n   269,\n   71,\n   172,\n   245,\n   247,\n   154,\n   283,\n   26,\n   103,\n   260,\n   214,\n   164,\n   267,\n   36,\n   22,\n   59,\n   228,\n   94,\n   27,\n   86,\n   209,\n   185,\n   281,\n   241,\n   93,\n   273,\n   232,\n   166,\n   190,\n   49,\n   133,\n   274,\n   268,\n   142,\n   249,\n   153,\n   81,\n   9,\n   204,\n   85,\n   265,\n   118,\n   220,\n   139,\n   256,\n   117,\n   121,\n   62,\n   18,\n   67,\n   68,\n   101],\n  [184,\n   244,\n   99,\n   107,\n   252,\n   157,\n   213,\n   43,\n   61,\n   264,\n   146,\n   3,\n   5,\n   239,\n   56,\n   288,\n   106,\n   42,\n   242,\n   297,\n   25,\n   218,\n   186,\n   199,\n   137,\n   138,\n   219,\n   83,\n   160,\n   28,\n   222,\n   13,\n   234,\n   120,\n   229,\n   6,\n   202,\n   169,\n   63,\n   201,\n   286,\n   104,\n   167,\n   158,\n   207,\n   87,\n   60,\n   223,\n   225,\n   221,\n   194,\n   280,\n   175,\n   16,\n   129,\n   95,\n   135,\n   73,\n   179,\n   74],\n  [258,\n   279,\n   66,\n   20,\n   285,\n   180,\n   46,\n   37,\n   2,\n   293,\n   178,\n   33,\n   148,\n   230,\n   163,\n   266,\n   116,\n   276,\n   257,\n   196,\n   292,\n   128,\n   299,\n   231,\n   161,\n   111,\n   41,\n   141,\n   122,\n   24,\n   130,\n   35,\n   189,\n   12,\n   7,\n   270,\n   54,\n   17,\n   159,\n   156,\n   131,\n   123,\n   227,\n   212,\n   143,\n   197,\n   240,\n   50,\n   294,\n   177,\n   19,\n   162,\n   8,\n   251,\n   176,\n   11,\n   183,\n   80,\n   140,\n   119]],\n (('train_l2', 0.4132603862693192),\n  ('val_l2', 0.24149793233051595),\n  ('test_l2', 0.2030401019190291)): [[230,\n   255,\n   108,\n   40,\n   300,\n   151,\n   110,\n   145,\n   158,\n   28,\n   236,\n   227,\n   203,\n   31,\n   64,\n   262,\n   263,\n   37,\n   174,\n   66,\n   171,\n   105,\n   136,\n   289,\n   89,\n   127,\n   226,\n   113,\n   5,\n   223,\n   16,\n   77,\n   286,\n   261,\n   277,\n   102,\n   95,\n   246,\n   259,\n   74,\n   238,\n   161,\n   182,\n   290,\n   100,\n   169,\n   51,\n   228,\n   298,\n   98,\n   162,\n   215,\n   32,\n   124,\n   291,\n   15,\n   45,\n   282,\n   57,\n   14,\n   155,\n   1,\n   84,\n   96,\n   150,\n   38,\n   149,\n   271,\n   75,\n   188,\n   199,\n   231,\n   109,\n   210,\n   21,\n   168,\n   91,\n   250,\n   107,\n   53,\n   72,\n   195,\n   153,\n   132,\n   115,\n   78,\n   65,\n   29,\n   119,\n   10,\n   243,\n   206,\n   216,\n   198,\n   44,\n   229,\n   129,\n   173,\n   36,\n   217,\n   224,\n   125,\n   253,\n   79,\n   205,\n   248,\n   141,\n   76,\n   12,\n   140,\n   295,\n   99,\n   208,\n   97,\n   152,\n   211,\n   187,\n   34,\n   272,\n   52,\n   48,\n   92,\n   23,\n   181,\n   278,\n   269,\n   71,\n   172,\n   245,\n   24,\n   154,\n   283,\n   254,\n   103,\n   260,\n   214,\n   164,\n   297,\n   42,\n   247,\n   212,\n   94,\n   27,\n   86,\n   68,\n   218,\n   241,\n   93,\n   232,\n   166,\n   126,\n   49,\n   133,\n   274,\n   73,\n   142,\n   273,\n   81,\n   9,\n   204,\n   265,\n   118,\n   220,\n   139,\n   185,\n   294,\n   221,\n   63,\n   41,\n   104,\n   70,\n   157,\n   192,\n   56,\n   200,\n   264,\n   207,\n   287],\n  [244,\n   8,\n   233,\n   219,\n   18,\n   213,\n   43,\n   197,\n   178,\n   146,\n   3,\n   242,\n   128,\n   288,\n   106,\n   179,\n   22,\n   193,\n   55,\n   26,\n   281,\n   114,\n   143,\n   170,\n   134,\n   121,\n   11,\n   7,\n   83,\n   61,\n   116,\n   222,\n   251,\n   234,\n   279,\n   120,\n   284,\n   6,\n   202,\n   275,\n   111,\n   112,\n   62,\n   167,\n   19,\n   2,\n   60,\n   35,\n   225,\n   194,\n   135,\n   80,\n   293,\n   296,\n   276,\n   299,\n   54,\n   4,\n   50,\n   85,\n   268,\n   58],\n  [258,\n   209,\n   88,\n   20,\n   285,\n   180,\n   13,\n   87,\n   137,\n   82,\n   148,\n   138,\n   163,\n   266,\n   30,\n   177,\n   257,\n   196,\n   292,\n   252,\n   39,\n   190,\n   69,\n   249,\n   147,\n   122,\n   59,\n   130,\n   235,\n   189,\n   67,\n   101,\n   270,\n   47,\n   17,\n   159,\n   156,\n   183,\n   131,\n   123,\n   191,\n   280,\n   46,\n   160,\n   176,\n   240,\n   201,\n   165,\n   186,\n   117,\n   184,\n   175,\n   90,\n   239,\n   25,\n   267,\n   237,\n   144,\n   33,\n   256]],\n (('train_l2', 0.4135206332262364),\n  ('val_l2', 0.24254117974185385),\n  ('test_l2', 0.20273910108438328)): [[230,\n   255,\n   108,\n   40,\n   300,\n   151,\n   110,\n   145,\n   158,\n   28,\n   236,\n   227,\n   203,\n   31,\n   64,\n   262,\n   263,\n   174,\n   88,\n   171,\n   235,\n   136,\n   289,\n   89,\n   127,\n   226,\n   113,\n   5,\n   223,\n   16,\n   77,\n   280,\n   261,\n   277,\n   102,\n   95,\n   246,\n   259,\n   74,\n   238,\n   161,\n   182,\n   290,\n   100,\n   169,\n   240,\n   228,\n   298,\n   98,\n   162,\n   215,\n   32,\n   124,\n   291,\n   15,\n   45,\n   282,\n   57,\n   14,\n   155,\n   1,\n   84,\n   96,\n   150,\n   38,\n   149,\n   271,\n   75,\n   188,\n   199,\n   231,\n   109,\n   210,\n   21,\n   168,\n   91,\n   250,\n   107,\n   53,\n   72,\n   195,\n   153,\n   132,\n   115,\n   78,\n   65,\n   29,\n   119,\n   10,\n   243,\n   206,\n   216,\n   198,\n   44,\n   229,\n   129,\n   173,\n   36,\n   217,\n   224,\n   125,\n   253,\n   58,\n   79,\n   205,\n   248,\n   141,\n   76,\n   67,\n   140,\n   295,\n   99,\n   208,\n   97,\n   152,\n   211,\n   187,\n   34,\n   272,\n   52,\n   48,\n   92,\n   23,\n   181,\n   278,\n   269,\n   71,\n   172,\n   245,\n   24,\n   154,\n   283,\n   26,\n   103,\n   260,\n   214,\n   164,\n   297,\n   42,\n   247,\n   212,\n   94,\n   27,\n   86,\n   209,\n   218,\n   241,\n   93,\n   232,\n   166,\n   126,\n   49,\n   133,\n   274,\n   268,\n   73,\n   142,\n   189,\n   81,\n   9,\n   204,\n   265,\n   118,\n   220,\n   139,\n   185,\n   294,\n   221,\n   63,\n   41,\n   104,\n   70,\n   157,\n   192,\n   56,\n   200,\n   264,\n   207,\n   287],\n  [244,\n   8,\n   233,\n   219,\n   18,\n   213,\n   43,\n   33,\n   197,\n   178,\n   146,\n   3,\n   242,\n   128,\n   288,\n   106,\n   179,\n   22,\n   193,\n   55,\n   25,\n   281,\n   114,\n   143,\n   170,\n   134,\n   121,\n   11,\n   7,\n   83,\n   61,\n   116,\n   222,\n   251,\n   234,\n   279,\n   120,\n   284,\n   6,\n   202,\n   275,\n   111,\n   112,\n   62,\n   167,\n   19,\n   2,\n   60,\n   35,\n   225,\n   194,\n   135,\n   80,\n   293,\n   296,\n   276,\n   299,\n   54,\n   4,\n   50,\n   85],\n  [258,\n   68,\n   66,\n   20,\n   285,\n   180,\n   13,\n   87,\n   137,\n   82,\n   148,\n   138,\n   163,\n   266,\n   30,\n   177,\n   257,\n   196,\n   292,\n   252,\n   39,\n   190,\n   69,\n   249,\n   147,\n   122,\n   59,\n   130,\n   105,\n   273,\n   12,\n   101,\n   270,\n   47,\n   17,\n   159,\n   156,\n   183,\n   131,\n   123,\n   191,\n   286,\n   46,\n   160,\n   176,\n   51,\n   201,\n   165,\n   186,\n   117,\n   184,\n   175,\n   90,\n   239,\n   254,\n   267,\n   237,\n   144,\n   37,\n   256]],\n (('train_l2', 0.4137106367698085),\n  ('val_l2', 0.24244094433266425),\n  ('test_l2', 0.20251677480820768)): [[230,\n   255,\n   108,\n   40,\n   300,\n   151,\n   110,\n   145,\n   163,\n   28,\n   236,\n   227,\n   203,\n   31,\n   64,\n   262,\n   263,\n   37,\n   174,\n   88,\n   4,\n   235,\n   136,\n   289,\n   89,\n   127,\n   226,\n   113,\n   242,\n   135,\n   16,\n   77,\n   280,\n   261,\n   277,\n   102,\n   193,\n   246,\n   259,\n   74,\n   238,\n   161,\n   182,\n   290,\n   100,\n   169,\n   51,\n   228,\n   298,\n   98,\n   162,\n   215,\n   32,\n   124,\n   291,\n   15,\n   285,\n   282,\n   57,\n   237,\n   14,\n   155,\n   1,\n   84,\n   293,\n   150,\n   38,\n   149,\n   271,\n   75,\n   188,\n   143,\n   231,\n   109,\n   210,\n   21,\n   168,\n   91,\n   250,\n   116,\n   53,\n   72,\n   195,\n   39,\n   132,\n   115,\n   78,\n   65,\n   29,\n   119,\n   10,\n   243,\n   206,\n   216,\n   198,\n   44,\n   229,\n   129,\n   173,\n   217,\n   224,\n   125,\n   253,\n   58,\n   79,\n   47,\n   205,\n   248,\n   141,\n   76,\n   67,\n   140,\n   295,\n   99,\n   208,\n   97,\n   152,\n   211,\n   187,\n   178,\n   272,\n   52,\n   48,\n   92,\n   23,\n   181,\n   278,\n   107,\n   71,\n   172,\n   245,\n   24,\n   154,\n   283,\n   26,\n   103,\n   260,\n   214,\n   234,\n   297,\n   42,\n   247,\n   212,\n   94,\n   27,\n   86,\n   209,\n   218,\n   241,\n   93,\n   232,\n   126,\n   49,\n   133,\n   274,\n   268,\n   73,\n   142,\n   111,\n   81,\n   9,\n   204,\n   265,\n   118,\n   220,\n   139,\n   185,\n   294,\n   221,\n   63,\n   41,\n   104,\n   70,\n   157,\n   192,\n   56,\n   200,\n   7,\n   134,\n   96],\n  [244,\n   8,\n   233,\n   219,\n   18,\n   264,\n   213,\n   43,\n   33,\n   197,\n   34,\n   146,\n   3,\n   252,\n   288,\n   106,\n   45,\n   22,\n   153,\n   36,\n   25,\n   281,\n   114,\n   199,\n   170,\n   121,\n   11,\n   83,\n   61,\n   269,\n   222,\n   251,\n   164,\n   68,\n   120,\n   284,\n   6,\n   202,\n   275,\n   273,\n   112,\n   62,\n   167,\n   19,\n   256,\n   207,\n   2,\n   60,\n   35,\n   225,\n   194,\n   223,\n   80,\n   296,\n   276,\n   299,\n   54,\n   171,\n   50,\n   85,\n   166],\n  [258,\n   279,\n   66,\n   20,\n   179,\n   180,\n   13,\n   87,\n   287,\n   137,\n   144,\n   148,\n   138,\n   158,\n   266,\n   30,\n   177,\n   257,\n   196,\n   292,\n   128,\n   95,\n   190,\n   69,\n   249,\n   147,\n   122,\n   59,\n   130,\n   105,\n   189,\n   12,\n   101,\n   270,\n   82,\n   17,\n   159,\n   156,\n   183,\n   131,\n   123,\n   191,\n   286,\n   46,\n   160,\n   176,\n   240,\n   201,\n   165,\n   186,\n   117,\n   184,\n   175,\n   90,\n   239,\n   254,\n   267,\n   5,\n   55]],\n (('train_l2', 0.4133011400246991),\n  ('val_l2', 0.20273329286521302),\n  ('test_l2', 0.24237102648396408)): [[134,\n   255,\n   108,\n   40,\n   300,\n   151,\n   70,\n   145,\n   28,\n   236,\n   191,\n   203,\n   31,\n   64,\n   262,\n   263,\n   147,\n   174,\n   88,\n   171,\n   235,\n   136,\n   289,\n   89,\n   127,\n   226,\n   113,\n   242,\n   105,\n   114,\n   96,\n   77,\n   200,\n   261,\n   277,\n   102,\n   246,\n   259,\n   30,\n   238,\n   69,\n   182,\n   290,\n   100,\n   275,\n   51,\n   298,\n   98,\n   215,\n   32,\n   296,\n   124,\n   291,\n   15,\n   45,\n   282,\n   57,\n   237,\n   14,\n   155,\n   1,\n   84,\n   162,\n   150,\n   38,\n   149,\n   271,\n   75,\n   188,\n   126,\n   254,\n   231,\n   228,\n   90,\n   193,\n   21,\n   168,\n   250,\n   233,\n   53,\n   72,\n   195,\n   39,\n   132,\n   115,\n   78,\n   65,\n   29,\n   165,\n   119,\n   10,\n   91,\n   206,\n   216,\n   198,\n   44,\n   284,\n   173,\n   55,\n   217,\n   224,\n   47,\n   125,\n   253,\n   183,\n   79,\n   82,\n   205,\n   248,\n   112,\n   76,\n   110,\n   295,\n   192,\n   4,\n   208,\n   97,\n   152,\n   211,\n   187,\n   34,\n   272,\n   52,\n   48,\n   92,\n   23,\n   181,\n   278,\n   269,\n   71,\n   172,\n   245,\n   247,\n   154,\n   283,\n   26,\n   103,\n   260,\n   214,\n   164,\n   267,\n   36,\n   22,\n   59,\n   212,\n   94,\n   27,\n   86,\n   209,\n   185,\n   281,\n   241,\n   93,\n   273,\n   232,\n   166,\n   190,\n   49,\n   133,\n   274,\n   268,\n   142,\n   249,\n   153,\n   81,\n   9,\n   204,\n   85,\n   265,\n   118,\n   220,\n   139,\n   256,\n   117,\n   159,\n   62,\n   18,\n   67,\n   68,\n   46],\n  [184,\n   244,\n   99,\n   107,\n   252,\n   157,\n   101,\n   213,\n   43,\n   61,\n   264,\n   146,\n   3,\n   5,\n   239,\n   56,\n   288,\n   106,\n   42,\n   210,\n   297,\n   25,\n   218,\n   186,\n   199,\n   137,\n   138,\n   219,\n   83,\n   160,\n   243,\n   222,\n   13,\n   234,\n   120,\n   229,\n   6,\n   202,\n   169,\n   63,\n   179,\n   286,\n   104,\n   167,\n   158,\n   207,\n   2,\n   60,\n   223,\n   225,\n   221,\n   194,\n   280,\n   175,\n   16,\n   129,\n   95,\n   135,\n   73,\n   144],\n  [258,\n   279,\n   66,\n   20,\n   285,\n   180,\n   37,\n   87,\n   287,\n   178,\n   33,\n   148,\n   230,\n   163,\n   266,\n   74,\n   116,\n   276,\n   257,\n   196,\n   292,\n   128,\n   299,\n   170,\n   161,\n   111,\n   41,\n   141,\n   122,\n   24,\n   130,\n   35,\n   189,\n   12,\n   7,\n   270,\n   54,\n   17,\n   121,\n   156,\n   131,\n   123,\n   227,\n   109,\n   143,\n   197,\n   240,\n   50,\n   294,\n   177,\n   19,\n   293,\n   8,\n   251,\n   201,\n   176,\n   11,\n   58,\n   80,\n   140]],\n (('train_l2', 0.4133590369777933),\n  ('val_l2', 0.20271648339480527),\n  ('test_l2', 0.24237102648396408)): [[134,\n   255,\n   108,\n   40,\n   300,\n   151,\n   70,\n   145,\n   28,\n   236,\n   191,\n   203,\n   31,\n   64,\n   262,\n   263,\n   147,\n   174,\n   88,\n   171,\n   235,\n   136,\n   289,\n   89,\n   127,\n   226,\n   113,\n   242,\n   105,\n   114,\n   96,\n   77,\n   200,\n   261,\n   277,\n   102,\n   246,\n   259,\n   30,\n   238,\n   69,\n   182,\n   290,\n   100,\n   275,\n   51,\n   298,\n   98,\n   215,\n   32,\n   296,\n   124,\n   291,\n   15,\n   45,\n   282,\n   2,\n   237,\n   14,\n   155,\n   1,\n   84,\n   162,\n   150,\n   38,\n   149,\n   271,\n   75,\n   188,\n   126,\n   254,\n   231,\n   228,\n   90,\n   193,\n   21,\n   168,\n   250,\n   233,\n   53,\n   72,\n   195,\n   39,\n   132,\n   115,\n   78,\n   65,\n   29,\n   165,\n   119,\n   10,\n   91,\n   206,\n   216,\n   198,\n   44,\n   284,\n   173,\n   55,\n   217,\n   224,\n   47,\n   125,\n   253,\n   183,\n   79,\n   82,\n   205,\n   248,\n   112,\n   76,\n   110,\n   295,\n   192,\n   4,\n   208,\n   97,\n   152,\n   211,\n   187,\n   34,\n   272,\n   52,\n   48,\n   92,\n   23,\n   181,\n   278,\n   269,\n   71,\n   172,\n   245,\n   247,\n   154,\n   283,\n   26,\n   103,\n   260,\n   214,\n   164,\n   267,\n   36,\n   22,\n   59,\n   212,\n   94,\n   27,\n   86,\n   209,\n   185,\n   281,\n   241,\n   93,\n   273,\n   232,\n   166,\n   190,\n   49,\n   133,\n   274,\n   268,\n   142,\n   249,\n   153,\n   81,\n   9,\n   204,\n   85,\n   265,\n   118,\n   220,\n   139,\n   256,\n   117,\n   159,\n   62,\n   18,\n   67,\n   68,\n   46],\n  [184,\n   244,\n   99,\n   107,\n   252,\n   157,\n   101,\n   213,\n   43,\n   61,\n   264,\n   146,\n   3,\n   5,\n   239,\n   56,\n   288,\n   106,\n   42,\n   210,\n   297,\n   25,\n   218,\n   186,\n   199,\n   137,\n   138,\n   219,\n   83,\n   160,\n   243,\n   222,\n   13,\n   234,\n   120,\n   229,\n   6,\n   202,\n   169,\n   63,\n   179,\n   286,\n   104,\n   167,\n   158,\n   207,\n   57,\n   60,\n   223,\n   225,\n   221,\n   194,\n   280,\n   175,\n   16,\n   129,\n   95,\n   135,\n   73,\n   144],\n  [258,\n   279,\n   66,\n   20,\n   285,\n   180,\n   37,\n   87,\n   287,\n   178,\n   33,\n   148,\n   230,\n   163,\n   266,\n   74,\n   116,\n   276,\n   257,\n   196,\n   292,\n   128,\n   299,\n   170,\n   161,\n   111,\n   41,\n   141,\n   122,\n   24,\n   130,\n   35,\n   189,\n   12,\n   7,\n   270,\n   54,\n   17,\n   121,\n   156,\n   131,\n   123,\n   227,\n   109,\n   143,\n   197,\n   240,\n   50,\n   294,\n   177,\n   19,\n   293,\n   8,\n   251,\n   201,\n   176,\n   11,\n   58,\n   80,\n   140]],\n (('train_l2', 0.4134172871956188),\n  ('val_l2', 0.24149793233051595),\n  ('test_l2', 0.2028559432036252)): [[230,\n   255,\n   108,\n   40,\n   300,\n   151,\n   110,\n   145,\n   158,\n   28,\n   236,\n   227,\n   203,\n   31,\n   64,\n   262,\n   263,\n   37,\n   174,\n   66,\n   171,\n   105,\n   136,\n   289,\n   89,\n   127,\n   226,\n   113,\n   5,\n   223,\n   16,\n   77,\n   286,\n   261,\n   277,\n   102,\n   95,\n   246,\n   259,\n   74,\n   238,\n   161,\n   182,\n   290,\n   100,\n   169,\n   51,\n   228,\n   298,\n   98,\n   162,\n   215,\n   32,\n   124,\n   291,\n   15,\n   45,\n   282,\n   57,\n   14,\n   155,\n   1,\n   84,\n   96,\n   150,\n   38,\n   149,\n   271,\n   75,\n   188,\n   199,\n   231,\n   109,\n   210,\n   21,\n   168,\n   91,\n   250,\n   107,\n   53,\n   72,\n   195,\n   153,\n   132,\n   115,\n   78,\n   65,\n   29,\n   119,\n   10,\n   243,\n   206,\n   216,\n   198,\n   44,\n   229,\n   129,\n   173,\n   36,\n   217,\n   224,\n   125,\n   253,\n   79,\n   205,\n   248,\n   141,\n   76,\n   67,\n   140,\n   295,\n   99,\n   292,\n   97,\n   152,\n   211,\n   187,\n   34,\n   272,\n   52,\n   48,\n   92,\n   23,\n   181,\n   278,\n   269,\n   71,\n   172,\n   245,\n   24,\n   154,\n   283,\n   254,\n   103,\n   260,\n   214,\n   164,\n   297,\n   42,\n   247,\n   212,\n   94,\n   27,\n   86,\n   68,\n   218,\n   241,\n   93,\n   232,\n   166,\n   126,\n   49,\n   133,\n   274,\n   73,\n   142,\n   273,\n   81,\n   9,\n   204,\n   265,\n   118,\n   220,\n   139,\n   185,\n   294,\n   221,\n   63,\n   41,\n   104,\n   70,\n   157,\n   192,\n   56,\n   200,\n   264,\n   207,\n   287,\n   137],\n  [244,\n   8,\n   233,\n   219,\n   18,\n   213,\n   43,\n   197,\n   178,\n   146,\n   3,\n   242,\n   128,\n   288,\n   106,\n   179,\n   22,\n   193,\n   55,\n   26,\n   281,\n   114,\n   143,\n   170,\n   134,\n   121,\n   11,\n   7,\n   83,\n   61,\n   116,\n   222,\n   251,\n   234,\n   279,\n   120,\n   284,\n   6,\n   202,\n   275,\n   111,\n   112,\n   62,\n   167,\n   19,\n   2,\n   60,\n   35,\n   225,\n   194,\n   135,\n   80,\n   293,\n   296,\n   276,\n   299,\n   54,\n   4,\n   50,\n   85,\n   268,\n   58],\n  [258,\n   209,\n   88,\n   20,\n   285,\n   180,\n   13,\n   87,\n   82,\n   148,\n   138,\n   163,\n   266,\n   30,\n   177,\n   257,\n   196,\n   208,\n   252,\n   39,\n   190,\n   69,\n   249,\n   147,\n   122,\n   59,\n   130,\n   235,\n   189,\n   12,\n   101,\n   270,\n   47,\n   17,\n   159,\n   156,\n   183,\n   131,\n   123,\n   191,\n   280,\n   46,\n   160,\n   176,\n   240,\n   201,\n   165,\n   186,\n   117,\n   184,\n   175,\n   90,\n   239,\n   25,\n   267,\n   237,\n   144,\n   33,\n   256]],\n (('train_l2', 0.4135245108191139),\n  ('val_l2', 0.24197618937734236),\n  ('test_l2', 0.20269848762398343)): [[230,\n   255,\n   108,\n   40,\n   300,\n   151,\n   110,\n   68,\n   158,\n   28,\n   236,\n   227,\n   203,\n   31,\n   64,\n   262,\n   263,\n   37,\n   174,\n   88,\n   171,\n   235,\n   136,\n   289,\n   89,\n   127,\n   226,\n   113,\n   5,\n   223,\n   16,\n   77,\n   280,\n   261,\n   277,\n   102,\n   95,\n   246,\n   259,\n   74,\n   238,\n   161,\n   182,\n   290,\n   100,\n   169,\n   51,\n   228,\n   298,\n   98,\n   162,\n   215,\n   32,\n   124,\n   291,\n   15,\n   45,\n   282,\n   57,\n   14,\n   155,\n   1,\n   84,\n   96,\n   150,\n   38,\n   149,\n   271,\n   75,\n   188,\n   143,\n   231,\n   109,\n   210,\n   21,\n   168,\n   91,\n   250,\n   107,\n   53,\n   72,\n   195,\n   153,\n   132,\n   115,\n   78,\n   65,\n   29,\n   119,\n   10,\n   243,\n   206,\n   216,\n   198,\n   229,\n   6,\n   173,\n   36,\n   217,\n   224,\n   125,\n   253,\n   58,\n   79,\n   205,\n   248,\n   141,\n   76,\n   67,\n   140,\n   295,\n   99,\n   208,\n   97,\n   152,\n   211,\n   187,\n   34,\n   272,\n   52,\n   48,\n   92,\n   23,\n   181,\n   278,\n   269,\n   71,\n   172,\n   245,\n   24,\n   154,\n   283,\n   26,\n   103,\n   260,\n   214,\n   164,\n   297,\n   42,\n   247,\n   212,\n   94,\n   27,\n   86,\n   209,\n   218,\n   241,\n   93,\n   232,\n   166,\n   126,\n   49,\n   133,\n   274,\n   268,\n   73,\n   142,\n   273,\n   81,\n   9,\n   204,\n   265,\n   118,\n   220,\n   139,\n   185,\n   294,\n   221,\n   63,\n   41,\n   104,\n   70,\n   157,\n   192,\n   56,\n   200,\n   264,\n   207,\n   117],\n  [244,\n   8,\n   233,\n   219,\n   18,\n   213,\n   43,\n   33,\n   197,\n   178,\n   146,\n   3,\n   242,\n   128,\n   288,\n   106,\n   179,\n   22,\n   193,\n   55,\n   239,\n   281,\n   114,\n   199,\n   170,\n   134,\n   121,\n   11,\n   7,\n   83,\n   61,\n   116,\n   222,\n   251,\n   234,\n   279,\n   120,\n   284,\n   129,\n   202,\n   275,\n   111,\n   112,\n   62,\n   167,\n   19,\n   256,\n   2,\n   60,\n   35,\n   225,\n   194,\n   135,\n   80,\n   293,\n   296,\n   276,\n   299,\n   54,\n   4,\n   50,\n   85],\n  [258,\n   145,\n   66,\n   20,\n   285,\n   180,\n   13,\n   87,\n   287,\n   137,\n   82,\n   148,\n   138,\n   163,\n   266,\n   30,\n   177,\n   257,\n   196,\n   292,\n   252,\n   39,\n   190,\n   69,\n   249,\n   147,\n   122,\n   59,\n   130,\n   105,\n   189,\n   12,\n   101,\n   270,\n   47,\n   17,\n   159,\n   156,\n   183,\n   131,\n   123,\n   191,\n   286,\n   46,\n   160,\n   176,\n   240,\n   201,\n   165,\n   186,\n   184,\n   175,\n   90,\n   25,\n   254,\n   267,\n   237,\n   144,\n   44]],\n (('train_l2', 0.41342900167650803),\n  ('val_l2', 0.241520046112469),\n  ('test_l2', 0.20277896104365412)): [[230,\n   255,\n   108,\n   40,\n   300,\n   151,\n   110,\n   145,\n   158,\n   28,\n   236,\n   227,\n   203,\n   31,\n   64,\n   262,\n   263,\n   174,\n   88,\n   171,\n   235,\n   136,\n   289,\n   89,\n   127,\n   226,\n   113,\n   5,\n   223,\n   16,\n   77,\n   280,\n   261,\n   277,\n   102,\n   95,\n   246,\n   259,\n   74,\n   238,\n   161,\n   182,\n   290,\n   100,\n   169,\n   51,\n   228,\n   298,\n   98,\n   162,\n   215,\n   32,\n   124,\n   291,\n   15,\n   45,\n   282,\n   57,\n   14,\n   155,\n   1,\n   84,\n   96,\n   150,\n   38,\n   149,\n   271,\n   75,\n   188,\n   199,\n   231,\n   109,\n   210,\n   21,\n   168,\n   91,\n   250,\n   107,\n   53,\n   195,\n   153,\n   132,\n   115,\n   78,\n   65,\n   29,\n   119,\n   10,\n   243,\n   206,\n   216,\n   198,\n   44,\n   229,\n   129,\n   173,\n   36,\n   217,\n   224,\n   125,\n   253,\n   58,\n   79,\n   205,\n   248,\n   141,\n   76,\n   67,\n   140,\n   295,\n   99,\n   208,\n   97,\n   152,\n   211,\n   187,\n   85,\n   272,\n   52,\n   48,\n   92,\n   23,\n   181,\n   278,\n   269,\n   71,\n   172,\n   245,\n   24,\n   154,\n   283,\n   26,\n   103,\n   260,\n   214,\n   164,\n   297,\n   42,\n   247,\n   212,\n   94,\n   27,\n   86,\n   209,\n   218,\n   241,\n   93,\n   232,\n   166,\n   126,\n   49,\n   33,\n   274,\n   268,\n   73,\n   142,\n   273,\n   81,\n   9,\n   204,\n   265,\n   118,\n   220,\n   139,\n   185,\n   294,\n   221,\n   63,\n   41,\n   104,\n   70,\n   157,\n   192,\n   56,\n   200,\n   264,\n   207,\n   287],\n  [244,\n   8,\n   233,\n   219,\n   18,\n   213,\n   43,\n   133,\n   197,\n   178,\n   146,\n   3,\n   242,\n   128,\n   288,\n   106,\n   179,\n   22,\n   193,\n   55,\n   25,\n   281,\n   114,\n   143,\n   170,\n   134,\n   121,\n   11,\n   7,\n   83,\n   61,\n   116,\n   222,\n   251,\n   234,\n   279,\n   120,\n   284,\n   6,\n   202,\n   275,\n   111,\n   112,\n   62,\n   167,\n   19,\n   256,\n   2,\n   60,\n   35,\n   225,\n   194,\n   135,\n   293,\n   296,\n   276,\n   299,\n   54,\n   4,\n   50,\n   34,\n   72,\n   80],\n  [258,\n   68,\n   66,\n   20,\n   285,\n   180,\n   13,\n   87,\n   137,\n   82,\n   148,\n   138,\n   163,\n   266,\n   30,\n   177,\n   257,\n   196,\n   292,\n   252,\n   39,\n   190,\n   69,\n   249,\n   147,\n   122,\n   59,\n   130,\n   105,\n   189,\n   12,\n   101,\n   270,\n   47,\n   17,\n   159,\n   156,\n   183,\n   131,\n   123,\n   191,\n   286,\n   46,\n   160,\n   176,\n   240,\n   201,\n   165,\n   186,\n   117,\n   184,\n   175,\n   90,\n   239,\n   254,\n   267,\n   237,\n   144,\n   37]],\n (('train_l2', 0.4132723639782765),\n  ('val_l2', 0.202846351830997),\n  ('test_l2', 0.24222772716849753)): [[134,\n   255,\n   108,\n   40,\n   300,\n   151,\n   70,\n   145,\n   243,\n   236,\n   191,\n   203,\n   31,\n   64,\n   262,\n   263,\n   147,\n   174,\n   88,\n   171,\n   235,\n   136,\n   289,\n   89,\n   127,\n   226,\n   113,\n   210,\n   105,\n   114,\n   96,\n   77,\n   200,\n   261,\n   277,\n   102,\n   246,\n   259,\n   30,\n   238,\n   69,\n   182,\n   290,\n   100,\n   275,\n   51,\n   298,\n   98,\n   144,\n   215,\n   32,\n   296,\n   124,\n   291,\n   15,\n   45,\n   282,\n   57,\n   237,\n   14,\n   155,\n   1,\n   84,\n   287,\n   150,\n   38,\n   149,\n   271,\n   75,\n   188,\n   126,\n   254,\n   170,\n   109,\n   90,\n   193,\n   21,\n   168,\n   250,\n   233,\n   53,\n   72,\n   195,\n   39,\n   132,\n   115,\n   78,\n   65,\n   29,\n   165,\n   119,\n   10,\n   91,\n   206,\n   216,\n   198,\n   44,\n   284,\n   173,\n   55,\n   217,\n   224,\n   47,\n   125,\n   253,\n   58,\n   79,\n   82,\n   205,\n   248,\n   112,\n   76,\n   110,\n   295,\n   192,\n   4,\n   208,\n   97,\n   152,\n   211,\n   187,\n   34,\n   272,\n   52,\n   48,\n   92,\n   23,\n   181,\n   278,\n   269,\n   71,\n   172,\n   245,\n   247,\n   154,\n   283,\n   26,\n   103,\n   260,\n   214,\n   164,\n   267,\n   36,\n   22,\n   59,\n   228,\n   94,\n   27,\n   86,\n   209,\n   185,\n   281,\n   241,\n   93,\n   273,\n   232,\n   166,\n   190,\n   49,\n   133,\n   274,\n   268,\n   142,\n   249,\n   153,\n   81,\n   9,\n   204,\n   85,\n   265,\n   118,\n   220,\n   139,\n   256,\n   117,\n   121,\n   62,\n   18,\n   67,\n   68],\n  [184,\n   244,\n   99,\n   107,\n   252,\n   157,\n   101,\n   213,\n   43,\n   61,\n   264,\n   146,\n   3,\n   5,\n   239,\n   56,\n   288,\n   106,\n   42,\n   242,\n   297,\n   25,\n   218,\n   186,\n   199,\n   137,\n   138,\n   219,\n   83,\n   160,\n   28,\n   222,\n   13,\n   234,\n   120,\n   229,\n   6,\n   202,\n   169,\n   63,\n   201,\n   286,\n   104,\n   167,\n   158,\n   207,\n   87,\n   60,\n   223,\n   225,\n   221,\n   194,\n   280,\n   175,\n   16,\n   129,\n   95,\n   135,\n   73,\n   179,\n   74],\n  [258,\n   279,\n   66,\n   20,\n   285,\n   180,\n   46,\n   37,\n   2,\n   293,\n   178,\n   33,\n   148,\n   230,\n   163,\n   266,\n   116,\n   276,\n   257,\n   196,\n   292,\n   128,\n   299,\n   231,\n   161,\n   111,\n   41,\n   141,\n   122,\n   24,\n   130,\n   35,\n   189,\n   12,\n   7,\n   270,\n   54,\n   17,\n   159,\n   156,\n   131,\n   123,\n   227,\n   212,\n   143,\n   197,\n   240,\n   50,\n   294,\n   177,\n   19,\n   162,\n   8,\n   251,\n   176,\n   11,\n   183,\n   80,\n   140]],\n (('train_l2', 0.4136556459371639),\n  ('val_l2', 0.24230175366576726),\n  ('test_l2', 0.20260625978773056)): [[230,\n   255,\n   108,\n   40,\n   300,\n   151,\n   110,\n   145,\n   163,\n   28,\n   236,\n   227,\n   203,\n   31,\n   64,\n   262,\n   263,\n   37,\n   174,\n   88,\n   4,\n   235,\n   136,\n   289,\n   89,\n   127,\n   226,\n   113,\n   242,\n   135,\n   16,\n   77,\n   280,\n   261,\n   277,\n   102,\n   95,\n   246,\n   259,\n   74,\n   238,\n   161,\n   182,\n   290,\n   100,\n   169,\n   51,\n   228,\n   298,\n   98,\n   162,\n   215,\n   32,\n   124,\n   291,\n   15,\n   285,\n   282,\n   57,\n   237,\n   14,\n   155,\n   1,\n   84,\n   293,\n   150,\n   38,\n   149,\n   271,\n   75,\n   188,\n   143,\n   231,\n   109,\n   210,\n   21,\n   168,\n   91,\n   250,\n   116,\n   53,\n   72,\n   195,\n   39,\n   132,\n   115,\n   78,\n   65,\n   29,\n   119,\n   10,\n   243,\n   206,\n   216,\n   198,\n   44,\n   229,\n   129,\n   173,\n   217,\n   224,\n   125,\n   253,\n   58,\n   79,\n   47,\n   205,\n   248,\n   141,\n   76,\n   67,\n   140,\n   295,\n   99,\n   208,\n   97,\n   152,\n   211,\n   187,\n   178,\n   272,\n   52,\n   48,\n   92,\n   23,\n   181,\n   278,\n   107,\n   71,\n   172,\n   245,\n   24,\n   154,\n   283,\n   26,\n   103,\n   260,\n   214,\n   164,\n   297,\n   42,\n   247,\n   212,\n   94,\n   27,\n   86,\n   209,\n   218,\n   241,\n   93,\n   232,\n   126,\n   49,\n   133,\n   274,\n   268,\n   73,\n   142,\n   111,\n   81,\n   9,\n   204,\n   265,\n   118,\n   220,\n   139,\n   185,\n   294,\n   221,\n   63,\n   41,\n   104,\n   70,\n   157,\n   192,\n   56,\n   200,\n   7,\n   134,\n   96],\n  [244,\n   8,\n   233,\n   219,\n   18,\n   264,\n   213,\n   43,\n   33,\n   197,\n   34,\n   146,\n   3,\n   252,\n   288,\n   106,\n   45,\n   22,\n   193,\n   128,\n   25,\n   281,\n   114,\n   199,\n   170,\n   121,\n   11,\n   83,\n   61,\n   269,\n   222,\n   251,\n   234,\n   68,\n   120,\n   284,\n   6,\n   202,\n   275,\n   273,\n   112,\n   62,\n   167,\n   19,\n   256,\n   207,\n   2,\n   60,\n   35,\n   225,\n   194,\n   223,\n   80,\n   296,\n   276,\n   299,\n   54,\n   171,\n   50,\n   85,\n   166],\n  [258,\n   279,\n   66,\n   20,\n   179,\n   180,\n   13,\n   87,\n   287,\n   137,\n   144,\n   148,\n   138,\n   158,\n   266,\n   30,\n   177,\n   257,\n   196,\n   292,\n   36,\n   153,\n   190,\n   69,\n   249,\n   147,\n   122,\n   59,\n   130,\n   105,\n   189,\n   12,\n   101,\n   270,\n   82,\n   17,\n   159,\n   156,\n   183,\n   131,\n   123,\n   191,\n   286,\n   46,\n   160,\n   176,\n   240,\n   201,\n   165,\n   186,\n   117,\n   184,\n   175,\n   90,\n   239,\n   254,\n   267,\n   5,\n   55]],\n (('train_l2', 0.7053364221589339),\n  ('val_l2', 0.5849290410923915),\n  ('test_l2', 0.20248992344058592)): [[230,\n   255,\n   108,\n   40,\n   300,\n   151,\n   110,\n   145,\n   158,\n   28,\n   236,\n   227,\n   203,\n   31,\n   64,\n   262,\n   263,\n   147,\n   174,\n   88,\n   171,\n   235,\n   136,\n   289,\n   89,\n   127,\n   226,\n   113,\n   223,\n   167,\n   77,\n   280,\n   261,\n   277,\n   102,\n   95,\n   246,\n   259,\n   74,\n   238,\n   161,\n   182,\n   290,\n   100,\n   169,\n   51,\n   228,\n   298,\n   214,\n   162,\n   215,\n   16,\n   124,\n   291,\n   15,\n   45,\n   282,\n   57,\n   237,\n   14,\n   6,\n   1,\n   84,\n   293,\n   150,\n   38,\n   149,\n   96,\n   75,\n   188,\n   143,\n   225,\n   109,\n   210,\n   21,\n   168,\n   177,\n   250,\n   107,\n   72,\n   195,\n   39,\n   132,\n   115,\n   78,\n   65,\n   29,\n   10,\n   243,\n   206,\n   216,\n   198,\n   44,\n   284,\n   129,\n   55,\n   217,\n   224,\n   125,\n   253,\n   58,\n   79,\n   82,\n   205,\n   248,\n   141,\n   199,\n   67,\n   140,\n   295,\n   99,\n   4,\n   273,\n   239,\n   33,\n   211,\n   187,\n   34,\n   272,\n   52,\n   48,\n   92,\n   23,\n   181,\n   278,\n   269,\n   71,\n   172,\n   245,\n   24,\n   154,\n   283,\n   138,\n   103,\n   260,\n   164,\n   189,\n   42,\n   59,\n   212,\n   94,\n   27,\n   86,\n   209,\n   50,\n   281,\n   241,\n   93,\n   232,\n   234,\n   126,\n   49,\n   133,\n   274,\n   268,\n   73,\n   142,\n   111,\n   81,\n   9,\n   122,\n   178,\n   265,\n   118,\n   220,\n   139,\n   185,\n   294,\n   221,\n   63,\n   41,\n   104,\n   70,\n   157,\n   192,\n   56,\n   90,\n   68,\n   219,\n   299,\n   256,\n   11],\n  [244,\n   8,\n   233,\n   18,\n   264,\n   213,\n   43,\n   152,\n   197,\n   85,\n   146,\n   3,\n   254,\n   252,\n   288,\n   106,\n   179,\n   22,\n   193,\n   201,\n   297,\n   218,\n   114,\n   76,\n   137,\n   134,\n   121,\n   7,\n   83,\n   61,\n   116,\n   222,\n   13,\n   166,\n   120,\n   105,\n   155,\n   202,\n   275,\n   208,\n   112,\n   62,\n   32,\n   19,\n   207,\n   2,\n   60,\n   35,\n   231,\n   194,\n   135,\n   80,\n   271,\n   296,\n   276,\n   54,\n   53,\n   119,\n   242],\n  [258,\n   279,\n   66,\n   20,\n   285,\n   180,\n   251,\n   87,\n   287,\n   170,\n   144,\n   148,\n   26,\n   163,\n   266,\n   30,\n   91,\n   257,\n   196,\n   292,\n   128,\n   153,\n   190,\n   69,\n   249,\n   37,\n   204,\n   247,\n   130,\n   229,\n   25,\n   12,\n   101,\n   270,\n   47,\n   17,\n   159,\n   156,\n   183,\n   131,\n   123,\n   191,\n   286,\n   46,\n   160,\n   176,\n   200,\n   240,\n   36,\n   165,\n   186,\n   117,\n   184,\n   175,\n   5,\n   97,\n   267,\n   98,\n   173]],\n (('train_l2', 0.41363677969734786),\n  ('val_l2', 0.24233103119196328),\n  ('test_l2', 0.20263060369951427)): [[230,\n   255,\n   108,\n   40,\n   300,\n   151,\n   110,\n   145,\n   163,\n   28,\n   236,\n   227,\n   203,\n   31,\n   64,\n   262,\n   263,\n   37,\n   174,\n   88,\n   4,\n   235,\n   136,\n   289,\n   89,\n   127,\n   226,\n   113,\n   242,\n   135,\n   16,\n   77,\n   280,\n   261,\n   277,\n   102,\n   95,\n   246,\n   259,\n   74,\n   238,\n   161,\n   182,\n   290,\n   100,\n   169,\n   51,\n   228,\n   298,\n   98,\n   162,\n   215,\n   32,\n   124,\n   291,\n   15,\n   285,\n   282,\n   57,\n   105,\n   14,\n   155,\n   1,\n   84,\n   293,\n   150,\n   38,\n   149,\n   271,\n   75,\n   188,\n   143,\n   231,\n   109,\n   210,\n   21,\n   168,\n   91,\n   250,\n   116,\n   53,\n   72,\n   195,\n   39,\n   132,\n   115,\n   78,\n   65,\n   29,\n   119,\n   10,\n   243,\n   206,\n   216,\n   198,\n   44,\n   229,\n   129,\n   173,\n   217,\n   224,\n   125,\n   253,\n   58,\n   79,\n   47,\n   205,\n   248,\n   141,\n   76,\n   67,\n   140,\n   295,\n   99,\n   208,\n   97,\n   152,\n   211,\n   187,\n   178,\n   272,\n   52,\n   48,\n   92,\n   23,\n   181,\n   278,\n   107,\n   71,\n   172,\n   245,\n   24,\n   154,\n   283,\n   26,\n   103,\n   260,\n   214,\n   164,\n   297,\n   42,\n   247,\n   212,\n   94,\n   27,\n   86,\n   209,\n   218,\n   241,\n   93,\n   232,\n   126,\n   49,\n   133,\n   274,\n   268,\n   73,\n   142,\n   111,\n   81,\n   9,\n   204,\n   265,\n   118,\n   220,\n   139,\n   185,\n   294,\n   221,\n   63,\n   41,\n   104,\n   70,\n   157,\n   192,\n   56,\n   200,\n   7,\n   134,\n   96],\n  [244,\n   8,\n   233,\n   219,\n   18,\n   264,\n   213,\n   43,\n   33,\n   197,\n   34,\n   146,\n   3,\n   252,\n   288,\n   106,\n   45,\n   22,\n   193,\n   36,\n   25,\n   281,\n   114,\n   199,\n   170,\n   121,\n   11,\n   83,\n   61,\n   269,\n   222,\n   251,\n   234,\n   68,\n   120,\n   284,\n   6,\n   202,\n   275,\n   273,\n   112,\n   62,\n   167,\n   19,\n   256,\n   207,\n   2,\n   60,\n   35,\n   225,\n   194,\n   223,\n   80,\n   296,\n   276,\n   299,\n   54,\n   171,\n   50,\n   85,\n   166],\n  [258,\n   279,\n   66,\n   20,\n   179,\n   180,\n   13,\n   87,\n   287,\n   137,\n   144,\n   148,\n   138,\n   158,\n   266,\n   30,\n   177,\n   257,\n   196,\n   292,\n   128,\n   153,\n   190,\n   69,\n   249,\n   147,\n   122,\n   59,\n   130,\n   237,\n   189,\n   12,\n   101,\n   270,\n   82,\n   17,\n   159,\n   156,\n   183,\n   131,\n   123,\n   191,\n   286,\n   46,\n   160,\n   176,\n   240,\n   201,\n   165,\n   186,\n   117,\n   184,\n   175,\n   90,\n   239,\n   254,\n   267,\n   5,\n   55]],\n (('train_l2', 0.4132723639782765),\n  ('val_l2', 0.20277023523593182),\n  ('test_l2', 0.24224857004287972)): [[134,\n   255,\n   108,\n   40,\n   300,\n   151,\n   70,\n   145,\n   243,\n   236,\n   191,\n   203,\n   31,\n   64,\n   262,\n   263,\n   147,\n   174,\n   88,\n   171,\n   235,\n   136,\n   289,\n   89,\n   127,\n   226,\n   113,\n   210,\n   105,\n   114,\n   96,\n   77,\n   200,\n   261,\n   277,\n   102,\n   246,\n   259,\n   30,\n   238,\n   69,\n   182,\n   290,\n   100,\n   275,\n   51,\n   298,\n   98,\n   144,\n   215,\n   32,\n   296,\n   124,\n   291,\n   15,\n   45,\n   282,\n   57,\n   237,\n   14,\n   155,\n   1,\n   84,\n   287,\n   150,\n   38,\n   149,\n   271,\n   75,\n   188,\n   126,\n   254,\n   170,\n   109,\n   90,\n   193,\n   21,\n   168,\n   250,\n   233,\n   53,\n   72,\n   195,\n   39,\n   132,\n   115,\n   78,\n   65,\n   29,\n   165,\n   119,\n   10,\n   91,\n   206,\n   216,\n   198,\n   44,\n   284,\n   173,\n   55,\n   217,\n   224,\n   47,\n   125,\n   253,\n   58,\n   79,\n   82,\n   205,\n   248,\n   112,\n   76,\n   110,\n   295,\n   192,\n   4,\n   208,\n   97,\n   152,\n   211,\n   187,\n   34,\n   272,\n   52,\n   48,\n   92,\n   23,\n   181,\n   278,\n   269,\n   71,\n   172,\n   245,\n   247,\n   154,\n   283,\n   26,\n   103,\n   260,\n   214,\n   164,\n   267,\n   36,\n   22,\n   59,\n   228,\n   94,\n   27,\n   86,\n   209,\n   185,\n   281,\n   241,\n   93,\n   273,\n   232,\n   166,\n   190,\n   49,\n   133,\n   274,\n   268,\n   142,\n   249,\n   153,\n   81,\n   9,\n   204,\n   85,\n   265,\n   118,\n   220,\n   139,\n   256,\n   117,\n   121,\n   62,\n   18,\n   67,\n   68],\n  [184,\n   244,\n   99,\n   107,\n   252,\n   157,\n   101,\n   213,\n   43,\n   61,\n   264,\n   146,\n   3,\n   5,\n   239,\n   56,\n   288,\n   106,\n   42,\n   242,\n   297,\n   25,\n   218,\n   186,\n   199,\n   137,\n   138,\n   219,\n   83,\n   160,\n   28,\n   222,\n   13,\n   234,\n   120,\n   229,\n   6,\n   202,\n   169,\n   63,\n   201,\n   286,\n   104,\n   167,\n   158,\n   207,\n   2,\n   60,\n   223,\n   225,\n   221,\n   194,\n   280,\n   175,\n   16,\n   129,\n   95,\n   135,\n   73,\n   179,\n   74],\n  [258,\n   279,\n   66,\n   20,\n   285,\n   180,\n   46,\n   37,\n   87,\n   293,\n   178,\n   33,\n   148,\n   230,\n   163,\n   266,\n   116,\n   276,\n   257,\n   196,\n   292,\n   128,\n   299,\n   231,\n   161,\n   111,\n   41,\n   141,\n   122,\n   24,\n   130,\n   35,\n   189,\n   12,\n   7,\n   270,\n   54,\n   17,\n   159,\n   156,\n   131,\n   123,\n   227,\n   212,\n   143,\n   197,\n   240,\n   50,\n   294,\n   177,\n   19,\n   162,\n   8,\n   251,\n   176,\n   11,\n   183,\n   80,\n   140]],\n (('train_l2', 0.41368396082264436),\n  ('val_l2', 0.2422385273787074),\n  ('test_l2', 0.20261744822280434)): [[230,\n   255,\n   108,\n   40,\n   300,\n   151,\n   110,\n   145,\n   158,\n   28,\n   236,\n   171,\n   203,\n   31,\n   64,\n   262,\n   263,\n   37,\n   174,\n   88,\n   4,\n   235,\n   136,\n   289,\n   89,\n   127,\n   226,\n   113,\n   242,\n   223,\n   16,\n   77,\n   280,\n   261,\n   277,\n   102,\n   95,\n   246,\n   259,\n   74,\n   238,\n   161,\n   182,\n   290,\n   100,\n   169,\n   51,\n   228,\n   298,\n   98,\n   162,\n   215,\n   32,\n   124,\n   291,\n   15,\n   34,\n   282,\n   57,\n   237,\n   14,\n   155,\n   1,\n   84,\n   293,\n   150,\n   38,\n   149,\n   271,\n   75,\n   188,\n   143,\n   231,\n   109,\n   210,\n   21,\n   168,\n   91,\n   250,\n   116,\n   53,\n   72,\n   195,\n   39,\n   132,\n   115,\n   78,\n   65,\n   29,\n   119,\n   10,\n   243,\n   206,\n   216,\n   198,\n   44,\n   229,\n   129,\n   173,\n   217,\n   224,\n   125,\n   253,\n   58,\n   79,\n   47,\n   205,\n   248,\n   141,\n   76,\n   67,\n   140,\n   295,\n   99,\n   208,\n   97,\n   90,\n   211,\n   187,\n   178,\n   272,\n   52,\n   48,\n   92,\n   23,\n   181,\n   278,\n   269,\n   71,\n   172,\n   245,\n   24,\n   154,\n   283,\n   26,\n   103,\n   260,\n   214,\n   164,\n   297,\n   42,\n   247,\n   212,\n   94,\n   27,\n   86,\n   209,\n   218,\n   241,\n   93,\n   232,\n   166,\n   126,\n   49,\n   133,\n   274,\n   268,\n   73,\n   142,\n   111,\n   81,\n   82,\n   204,\n   265,\n   118,\n   220,\n   139,\n   185,\n   190,\n   221,\n   63,\n   41,\n   104,\n   70,\n   157,\n   192,\n   56,\n   200,\n   7,\n   107],\n  [244,\n   8,\n   233,\n   219,\n   18,\n   264,\n   213,\n   43,\n   33,\n   197,\n   285,\n   146,\n   3,\n   252,\n   288,\n   117,\n   45,\n   22,\n   193,\n   36,\n   25,\n   281,\n   114,\n   199,\n   170,\n   134,\n   121,\n   11,\n   83,\n   61,\n   222,\n   251,\n   234,\n   68,\n   120,\n   284,\n   6,\n   202,\n   275,\n   273,\n   112,\n   62,\n   167,\n   19,\n   256,\n   207,\n   2,\n   130,\n   35,\n   225,\n   194,\n   135,\n   80,\n   96,\n   296,\n   276,\n   299,\n   54,\n   227,\n   50,\n   85],\n  [258,\n   279,\n   66,\n   20,\n   179,\n   180,\n   13,\n   87,\n   287,\n   137,\n   144,\n   148,\n   138,\n   163,\n   266,\n   30,\n   177,\n   257,\n   196,\n   292,\n   128,\n   153,\n   294,\n   69,\n   249,\n   147,\n   122,\n   59,\n   60,\n   105,\n   189,\n   12,\n   101,\n   270,\n   9,\n   17,\n   159,\n   156,\n   183,\n   131,\n   123,\n   191,\n   286,\n   46,\n   160,\n   176,\n   240,\n   201,\n   165,\n   186,\n   106,\n   184,\n   175,\n   152,\n   239,\n   254,\n   267,\n   5,\n   55]],\n (('train_l2', 0.4135533078666104),\n  ('val_l2', 0.24152425808054606),\n  ('test_l2', 0.20276962252104636)): [[230,\n   255,\n   108,\n   40,\n   300,\n   151,\n   110,\n   145,\n   158,\n   28,\n   236,\n   227,\n   203,\n   31,\n   64,\n   262,\n   263,\n   37,\n   174,\n   88,\n   171,\n   235,\n   136,\n   289,\n   89,\n   127,\n   226,\n   113,\n   5,\n   223,\n   16,\n   77,\n   280,\n   261,\n   277,\n   102,\n   95,\n   246,\n   259,\n   74,\n   238,\n   161,\n   182,\n   290,\n   100,\n   169,\n   51,\n   228,\n   298,\n   98,\n   162,\n   215,\n   32,\n   124,\n   291,\n   15,\n   20,\n   282,\n   57,\n   14,\n   155,\n   1,\n   96,\n   150,\n   38,\n   149,\n   271,\n   75,\n   188,\n   199,\n   231,\n   109,\n   210,\n   21,\n   168,\n   91,\n   250,\n   107,\n   53,\n   72,\n   195,\n   153,\n   132,\n   115,\n   78,\n   65,\n   29,\n   119,\n   10,\n   243,\n   206,\n   216,\n   198,\n   44,\n   229,\n   129,\n   173,\n   36,\n   217,\n   22,\n   125,\n   253,\n   58,\n   79,\n   205,\n   248,\n   141,\n   76,\n   67,\n   140,\n   295,\n   99,\n   208,\n   97,\n   152,\n   211,\n   187,\n   34,\n   272,\n   52,\n   48,\n   92,\n   23,\n   181,\n   278,\n   269,\n   71,\n   172,\n   245,\n   24,\n   154,\n   213,\n   26,\n   103,\n   260,\n   214,\n   164,\n   297,\n   42,\n   247,\n   212,\n   94,\n   27,\n   86,\n   209,\n   218,\n   241,\n   93,\n   232,\n   166,\n   126,\n   49,\n   133,\n   274,\n   268,\n   73,\n   142,\n   273,\n   81,\n   9,\n   204,\n   265,\n   118,\n   220,\n   139,\n   185,\n   294,\n   221,\n   63,\n   41,\n   104,\n   70,\n   157,\n   192,\n   56,\n   200,\n   264,\n   207,\n   287],\n  [244,\n   8,\n   233,\n   219,\n   18,\n   283,\n   43,\n   33,\n   197,\n   178,\n   146,\n   3,\n   242,\n   128,\n   288,\n   106,\n   179,\n   224,\n   193,\n   55,\n   267,\n   47,\n   114,\n   143,\n   170,\n   134,\n   121,\n   11,\n   7,\n   83,\n   61,\n   116,\n   222,\n   251,\n   234,\n   279,\n   120,\n   284,\n   6,\n   202,\n   275,\n   111,\n   112,\n   62,\n   167,\n   19,\n   256,\n   2,\n   60,\n   35,\n   225,\n   194,\n   135,\n   80,\n   293,\n   296,\n   276,\n   299,\n   54,\n   4,\n   50,\n   85],\n  [258,\n   68,\n   66,\n   45,\n   285,\n   180,\n   13,\n   87,\n   137,\n   82,\n   148,\n   138,\n   163,\n   266,\n   30,\n   177,\n   257,\n   196,\n   292,\n   252,\n   39,\n   190,\n   69,\n   249,\n   147,\n   122,\n   59,\n   130,\n   105,\n   189,\n   12,\n   101,\n   270,\n   281,\n   17,\n   159,\n   156,\n   183,\n   131,\n   123,\n   191,\n   286,\n   46,\n   160,\n   176,\n   240,\n   201,\n   165,\n   186,\n   117,\n   184,\n   175,\n   90,\n   239,\n   254,\n   25,\n   237,\n   144,\n   84]],\n (('train_l2', 0.41369462729249373),\n  ('val_l2', 0.2422388600855672),\n  ('test_l2', 0.202563540952233)): [[230,\n   255,\n   108,\n   40,\n   300,\n   151,\n   110,\n   145,\n   163,\n   28,\n   236,\n   227,\n   203,\n   31,\n   64,\n   262,\n   263,\n   37,\n   174,\n   88,\n   4,\n   136,\n   289,\n   89,\n   127,\n   226,\n   113,\n   242,\n   135,\n   16,\n   77,\n   280,\n   261,\n   277,\n   102,\n   95,\n   246,\n   259,\n   74,\n   238,\n   161,\n   182,\n   290,\n   100,\n   169,\n   51,\n   228,\n   298,\n   98,\n   162,\n   215,\n   32,\n   124,\n   291,\n   15,\n   285,\n   282,\n   57,\n   237,\n   14,\n   155,\n   1,\n   84,\n   293,\n   150,\n   38,\n   149,\n   271,\n   75,\n   188,\n   143,\n   231,\n   109,\n   210,\n   21,\n   168,\n   91,\n   106,\n   116,\n   53,\n   72,\n   195,\n   39,\n   132,\n   115,\n   78,\n   65,\n   29,\n   119,\n   10,\n   243,\n   206,\n   216,\n   198,\n   44,\n   229,\n   129,\n   173,\n   217,\n   224,\n   125,\n   253,\n   58,\n   79,\n   47,\n   205,\n   248,\n   141,\n   76,\n   67,\n   140,\n   295,\n   99,\n   208,\n   97,\n   152,\n   211,\n   187,\n   178,\n   272,\n   52,\n   48,\n   92,\n   23,\n   181,\n   278,\n   107,\n   71,\n   172,\n   245,\n   24,\n   154,\n   283,\n   26,\n   103,\n   260,\n   214,\n   164,\n   297,\n   42,\n   247,\n   212,\n   94,\n   27,\n   86,\n   209,\n   218,\n   241,\n   93,\n   232,\n   126,\n   49,\n   133,\n   274,\n   268,\n   73,\n   142,\n   111,\n   81,\n   9,\n   204,\n   265,\n   118,\n   220,\n   139,\n   185,\n   294,\n   221,\n   63,\n   41,\n   104,\n   70,\n   157,\n   192,\n   56,\n   200,\n   7,\n   134,\n   96,\n   287],\n  [244,\n   8,\n   233,\n   219,\n   18,\n   264,\n   213,\n   43,\n   33,\n   197,\n   34,\n   146,\n   3,\n   252,\n   288,\n   250,\n   45,\n   22,\n   193,\n   36,\n   25,\n   281,\n   114,\n   199,\n   170,\n   121,\n   11,\n   83,\n   61,\n   269,\n   222,\n   251,\n   234,\n   68,\n   120,\n   284,\n   6,\n   202,\n   275,\n   273,\n   112,\n   62,\n   167,\n   19,\n   256,\n   207,\n   2,\n   60,\n   35,\n   225,\n   194,\n   223,\n   80,\n   296,\n   276,\n   299,\n   54,\n   171,\n   50,\n   85,\n   166],\n  [258,\n   279,\n   66,\n   20,\n   179,\n   180,\n   13,\n   87,\n   137,\n   144,\n   148,\n   138,\n   158,\n   266,\n   30,\n   177,\n   257,\n   196,\n   292,\n   128,\n   153,\n   190,\n   69,\n   249,\n   147,\n   122,\n   59,\n   130,\n   105,\n   189,\n   12,\n   101,\n   270,\n   82,\n   17,\n   159,\n   156,\n   183,\n   131,\n   123,\n   191,\n   286,\n   46,\n   160,\n   176,\n   240,\n   201,\n   165,\n   186,\n   117,\n   184,\n   175,\n   90,\n   239,\n   254,\n   267,\n   5,\n   55,\n   235]],\n (('train_l2', 0.41373772163781825),\n  ('val_l2', 0.24227151110503567),\n  ('test_l2', 0.20256338068784682)): [[230,\n   255,\n   108,\n   40,\n   300,\n   151,\n   110,\n   145,\n   158,\n   28,\n   236,\n   227,\n   203,\n   31,\n   64,\n   262,\n   263,\n   37,\n   174,\n   88,\n   4,\n   235,\n   136,\n   289,\n   89,\n   127,\n   226,\n   113,\n   242,\n   223,\n   16,\n   77,\n   280,\n   261,\n   277,\n   102,\n   95,\n   246,\n   259,\n   74,\n   238,\n   161,\n   182,\n   290,\n   100,\n   169,\n   51,\n   228,\n   298,\n   98,\n   162,\n   215,\n   68,\n   124,\n   291,\n   15,\n   34,\n   282,\n   57,\n   237,\n   14,\n   1,\n   84,\n   293,\n   150,\n   38,\n   149,\n   271,\n   75,\n   188,\n   143,\n   231,\n   109,\n   210,\n   21,\n   91,\n   250,\n   116,\n   53,\n   72,\n   195,\n   39,\n   132,\n   115,\n   78,\n   80,\n   119,\n   10,\n   243,\n   206,\n   216,\n   198,\n   44,\n   229,\n   129,\n   173,\n   217,\n   224,\n   125,\n   253,\n   58,\n   79,\n   47,\n   205,\n   248,\n   43,\n   76,\n   67,\n   140,\n   295,\n   99,\n   36,\n   97,\n   152,\n   211,\n   187,\n   178,\n   272,\n   52,\n   48,\n   92,\n   23,\n   181,\n   278,\n   269,\n   71,\n   172,\n   245,\n   24,\n   154,\n   283,\n   26,\n   103,\n   260,\n   214,\n   164,\n   297,\n   42,\n   247,\n   212,\n   94,\n   27,\n   86,\n   209,\n   218,\n   241,\n   93,\n   232,\n   166,\n   126,\n   49,\n   133,\n   274,\n   268,\n   73,\n   142,\n   153,\n   81,\n   9,\n   204,\n   265,\n   118,\n   220,\n   139,\n   185,\n   294,\n   221,\n   63,\n   41,\n   104,\n   70,\n   157,\n   192,\n   56,\n   200,\n   7,\n   107,\n   96,\n   131,\n   120],\n  [244,\n   8,\n   233,\n   219,\n   264,\n   213,\n   141,\n   33,\n   197,\n   285,\n   146,\n   3,\n   252,\n   288,\n   106,\n   45,\n   22,\n   13,\n   208,\n   25,\n   281,\n   114,\n   199,\n   170,\n   134,\n   121,\n   11,\n   83,\n   61,\n   222,\n   251,\n   234,\n   32,\n   284,\n   6,\n   202,\n   275,\n   273,\n   112,\n   62,\n   167,\n   19,\n   256,\n   207,\n   2,\n   60,\n   35,\n   225,\n   194,\n   135,\n   29,\n   296,\n   276,\n   299,\n   54,\n   171,\n   50,\n   85,\n   168,\n   155],\n  [258,\n   279,\n   66,\n   20,\n   179,\n   180,\n   193,\n   87,\n   287,\n   137,\n   144,\n   148,\n   138,\n   163,\n   266,\n   30,\n   177,\n   257,\n   196,\n   292,\n   128,\n   111,\n   190,\n   69,\n   249,\n   147,\n   122,\n   59,\n   130,\n   105,\n   189,\n   12,\n   101,\n   270,\n   82,\n   17,\n   159,\n   156,\n   183,\n   123,\n   191,\n   286,\n   46,\n   160,\n   176,\n   240,\n   201,\n   165,\n   186,\n   117,\n   184,\n   175,\n   90,\n   239,\n   254,\n   267,\n   5,\n   55,\n   18,\n   65]],\n (('train_l2', 0.41326388763468214),\n  ('val_l2', 0.24141637051240109),\n  ('test_l2', 0.20288695082511243)): [[230,\n   255,\n   108,\n   40,\n   300,\n   151,\n   110,\n   145,\n   158,\n   28,\n   236,\n   227,\n   203,\n   31,\n   64,\n   262,\n   263,\n   37,\n   174,\n   66,\n   171,\n   105,\n   136,\n   289,\n   89,\n   127,\n   226,\n   113,\n   5,\n   223,\n   16,\n   77,\n   286,\n   261,\n   277,\n   102,\n   95,\n   246,\n   259,\n   74,\n   238,\n   161,\n   182,\n   290,\n   100,\n   169,\n   51,\n   228,\n   298,\n   98,\n   162,\n   215,\n   32,\n   124,\n   291,\n   15,\n   45,\n   282,\n   57,\n   14,\n   155,\n   1,\n   84,\n   96,\n   150,\n   38,\n   149,\n   271,\n   75,\n   188,\n   199,\n   231,\n   109,\n   210,\n   21,\n   168,\n   91,\n   250,\n   107,\n   53,\n   72,\n   195,\n   153,\n   132,\n   115,\n   78,\n   65,\n   29,\n   119,\n   10,\n   243,\n   206,\n   216,\n   198,\n   44,\n   229,\n   129,\n   173,\n   36,\n   217,\n   224,\n   125,\n   253,\n   79,\n   205,\n   248,\n   141,\n   76,\n   67,\n   140,\n   295,\n   99,\n   208,\n   97,\n   152,\n   211,\n   187,\n   34,\n   272,\n   52,\n   48,\n   92,\n   23,\n   181,\n   278,\n   269,\n   71,\n   172,\n   245,\n   24,\n   154,\n   283,\n   254,\n   103,\n   260,\n   214,\n   164,\n   297,\n   42,\n   247,\n   212,\n   94,\n   27,\n   86,\n   68,\n   218,\n   241,\n   93,\n   232,\n   166,\n   126,\n   49,\n   133,\n   274,\n   73,\n   142,\n   273,\n   81,\n   9,\n   204,\n   265,\n   118,\n   220,\n   139,\n   185,\n   294,\n   221,\n   63,\n   41,\n   104,\n   70,\n   157,\n   192,\n   56,\n   200,\n   264,\n   207,\n   287],\n  [244,\n   8,\n   233,\n   219,\n   18,\n   213,\n   256,\n   197,\n   178,\n   201,\n   3,\n   242,\n   128,\n   288,\n   106,\n   179,\n   22,\n   193,\n   55,\n   26,\n   281,\n   114,\n   143,\n   170,\n   134,\n   121,\n   11,\n   7,\n   83,\n   61,\n   116,\n   222,\n   251,\n   234,\n   279,\n   120,\n   284,\n   6,\n   202,\n   275,\n   111,\n   112,\n   62,\n   167,\n   19,\n   2,\n   60,\n   35,\n   225,\n   194,\n   135,\n   80,\n   293,\n   296,\n   276,\n   299,\n   54,\n   4,\n   50,\n   85,\n   268,\n   58],\n  [258,\n   209,\n   88,\n   20,\n   285,\n   180,\n   13,\n   87,\n   137,\n   82,\n   148,\n   138,\n   163,\n   266,\n   30,\n   177,\n   257,\n   196,\n   292,\n   252,\n   39,\n   190,\n   69,\n   249,\n   147,\n   122,\n   59,\n   130,\n   235,\n   189,\n   12,\n   101,\n   270,\n   47,\n   17,\n   159,\n   156,\n   183,\n   131,\n   123,\n   191,\n   280,\n   46,\n   160,\n   176,\n   240,\n   146,\n   165,\n   186,\n   117,\n   184,\n   175,\n   90,\n   239,\n   25,\n   267,\n   237,\n   144,\n   33,\n   43]],\n (('train_l2', 0.41519403862544835),\n  ('val_l2', 0.24547010569280137),\n  ('test_l2', 0.2024989695039378)): [[230,\n   255,\n   108,\n   166,\n   300,\n   151,\n   110,\n   145,\n   158,\n   28,\n   236,\n   227,\n   203,\n   31,\n   64,\n   262,\n   263,\n   147,\n   174,\n   88,\n   171,\n   235,\n   136,\n   289,\n   89,\n   127,\n   226,\n   113,\n   242,\n   223,\n   167,\n   77,\n   280,\n   261,\n   277,\n   102,\n   95,\n   246,\n   259,\n   74,\n   238,\n   161,\n   182,\n   290,\n   100,\n   169,\n   51,\n   228,\n   298,\n   214,\n   162,\n   215,\n   32,\n   124,\n   291,\n   15,\n   45,\n   282,\n   57,\n   237,\n   14,\n   6,\n   1,\n   84,\n   293,\n   150,\n   38,\n   149,\n   271,\n   75,\n   188,\n   143,\n   225,\n   109,\n   210,\n   21,\n   168,\n   177,\n   250,\n   107,\n   72,\n   195,\n   39,\n   132,\n   115,\n   78,\n   65,\n   29,\n   119,\n   243,\n   206,\n   216,\n   198,\n   44,\n   284,\n   129,\n   55,\n   217,\n   224,\n   125,\n   253,\n   58,\n   79,\n   82,\n   205,\n   248,\n   141,\n   76,\n   67,\n   140,\n   295,\n   99,\n   4,\n   273,\n   254,\n   33,\n   211,\n   187,\n   34,\n   272,\n   52,\n   48,\n   92,\n   23,\n   181,\n   278,\n   269,\n   71,\n   172,\n   245,\n   24,\n   283,\n   138,\n   103,\n   106,\n   164,\n   189,\n   42,\n   59,\n   212,\n   94,\n   27,\n   86,\n   209,\n   50,\n   281,\n   241,\n   93,\n   232,\n   234,\n   126,\n   49,\n   133,\n   274,\n   268,\n   73,\n   142,\n   111,\n   81,\n   9,\n   122,\n   178,\n   265,\n   118,\n   220,\n   139,\n   185,\n   294,\n   221,\n   63,\n   41,\n   104,\n   70,\n   157,\n   192,\n   56,\n   90,\n   68,\n   219,\n   202],\n  [244,\n   8,\n   233,\n   18,\n   264,\n   213,\n   43,\n   152,\n   197,\n   85,\n   146,\n   3,\n   239,\n   252,\n   288,\n   260,\n   179,\n   22,\n   193,\n   36,\n   297,\n   218,\n   114,\n   199,\n   137,\n   134,\n   121,\n   11,\n   7,\n   83,\n   61,\n   116,\n   222,\n   13,\n   40,\n   120,\n   229,\n   155,\n   275,\n   208,\n   112,\n   62,\n   267,\n   19,\n   256,\n   207,\n   2,\n   60,\n   35,\n   231,\n   194,\n   135,\n   80,\n   96,\n   296,\n   276,\n   299,\n   54,\n   53,\n   91,\n   154],\n  [258,\n   279,\n   66,\n   20,\n   285,\n   180,\n   251,\n   87,\n   287,\n   170,\n   144,\n   148,\n   26,\n   163,\n   266,\n   30,\n   257,\n   196,\n   292,\n   128,\n   153,\n   190,\n   69,\n   249,\n   37,\n   204,\n   247,\n   130,\n   105,\n   25,\n   12,\n   101,\n   270,\n   47,\n   17,\n   159,\n   156,\n   183,\n   131,\n   123,\n   191,\n   286,\n   46,\n   160,\n   176,\n   200,\n   240,\n   201,\n   165,\n   186,\n   117,\n   184,\n   175,\n   5,\n   97,\n   16,\n   98,\n   173,\n   10]],\n (('train_l2', 0.41342963293948687),\n  ('val_l2', 0.20319407166775755),\n  ('test_l2', 0.24217624228431991)): [[134,\n   255,\n   108,\n   40,\n   300,\n   151,\n   70,\n   145,\n   243,\n   236,\n   191,\n   203,\n   31,\n   64,\n   262,\n   263,\n   147,\n   174,\n   88,\n   171,\n   235,\n   136,\n   289,\n   89,\n   127,\n   226,\n   113,\n   210,\n   105,\n   114,\n   96,\n   77,\n   200,\n   261,\n   277,\n   102,\n   246,\n   259,\n   30,\n   238,\n   69,\n   182,\n   290,\n   100,\n   275,\n   51,\n   298,\n   98,\n   144,\n   215,\n   32,\n   296,\n   124,\n   291,\n   15,\n   45,\n   282,\n   57,\n   237,\n   14,\n   155,\n   1,\n   84,\n   287,\n   150,\n   38,\n   149,\n   271,\n   75,\n   188,\n   126,\n   254,\n   170,\n   109,\n   90,\n   193,\n   21,\n   168,\n   250,\n   233,\n   53,\n   72,\n   195,\n   39,\n   132,\n   115,\n   78,\n   65,\n   29,\n   165,\n   10,\n   91,\n   206,\n   216,\n   198,\n   44,\n   284,\n   173,\n   55,\n   217,\n   224,\n   47,\n   125,\n   253,\n   58,\n   79,\n   82,\n   205,\n   248,\n   112,\n   76,\n   110,\n   295,\n   192,\n   4,\n   208,\n   97,\n   152,\n   211,\n   187,\n   34,\n   272,\n   52,\n   48,\n   92,\n   23,\n   181,\n   278,\n   269,\n   71,\n   172,\n   245,\n   247,\n   154,\n   283,\n   26,\n   103,\n   260,\n   214,\n   164,\n   267,\n   36,\n   22,\n   59,\n   228,\n   94,\n   27,\n   86,\n   209,\n   185,\n   281,\n   241,\n   93,\n   273,\n   232,\n   166,\n   190,\n   49,\n   133,\n   274,\n   268,\n   142,\n   249,\n   153,\n   81,\n   9,\n   204,\n   85,\n   265,\n   118,\n   220,\n   139,\n   256,\n   117,\n   121,\n   62,\n   18,\n   67,\n   68],\n  [184,\n   244,\n   99,\n   107,\n   252,\n   157,\n   101,\n   213,\n   43,\n   61,\n   264,\n   146,\n   3,\n   5,\n   239,\n   56,\n   288,\n   106,\n   42,\n   242,\n   297,\n   25,\n   218,\n   186,\n   199,\n   137,\n   138,\n   219,\n   83,\n   160,\n   28,\n   222,\n   13,\n   234,\n   120,\n   229,\n   6,\n   202,\n   169,\n   63,\n   201,\n   286,\n   104,\n   167,\n   158,\n   207,\n   87,\n   60,\n   223,\n   225,\n   221,\n   194,\n   280,\n   175,\n   16,\n   129,\n   95,\n   135,\n   73,\n   179,\n   74,\n   111],\n  [258,\n   279,\n   66,\n   20,\n   285,\n   180,\n   46,\n   37,\n   2,\n   293,\n   178,\n   33,\n   148,\n   230,\n   163,\n   266,\n   116,\n   276,\n   257,\n   196,\n   292,\n   128,\n   299,\n   231,\n   161,\n   41,\n   141,\n   122,\n   24,\n   130,\n   35,\n   189,\n   12,\n   7,\n   270,\n   54,\n   17,\n   159,\n   156,\n   131,\n   123,\n   227,\n   212,\n   143,\n   197,\n   240,\n   50,\n   294,\n   177,\n   19,\n   162,\n   8,\n   251,\n   176,\n   11,\n   183,\n   80,\n   140,\n   119]],\n (('train_l2', 0.4137152282845179),\n  ('val_l2', 0.20408795151045564),\n  ('test_l2', 0.24215861382224108)): [[134,\n   255,\n   108,\n   40,\n   300,\n   151,\n   70,\n   145,\n   243,\n   236,\n   191,\n   203,\n   31,\n   64,\n   263,\n   147,\n   174,\n   88,\n   171,\n   235,\n   136,\n   289,\n   89,\n   127,\n   226,\n   113,\n   210,\n   105,\n   114,\n   96,\n   77,\n   200,\n   261,\n   277,\n   102,\n   246,\n   259,\n   30,\n   238,\n   69,\n   182,\n   290,\n   100,\n   275,\n   51,\n   298,\n   98,\n   144,\n   215,\n   32,\n   296,\n   124,\n   291,\n   15,\n   45,\n   282,\n   57,\n   237,\n   14,\n   155,\n   1,\n   84,\n   287,\n   150,\n   38,\n   149,\n   271,\n   75,\n   188,\n   126,\n   254,\n   170,\n   109,\n   90,\n   193,\n   21,\n   168,\n   250,\n   233,\n   53,\n   72,\n   195,\n   39,\n   132,\n   115,\n   78,\n   65,\n   29,\n   165,\n   10,\n   91,\n   206,\n   216,\n   198,\n   44,\n   284,\n   173,\n   55,\n   217,\n   224,\n   47,\n   125,\n   253,\n   58,\n   79,\n   82,\n   205,\n   248,\n   112,\n   76,\n   110,\n   295,\n   192,\n   4,\n   208,\n   97,\n   152,\n   211,\n   187,\n   34,\n   272,\n   52,\n   48,\n   92,\n   23,\n   181,\n   278,\n   269,\n   71,\n   172,\n   245,\n   247,\n   154,\n   283,\n   26,\n   103,\n   260,\n   214,\n   164,\n   267,\n   36,\n   22,\n   59,\n   228,\n   94,\n   27,\n   86,\n   209,\n   185,\n   281,\n   241,\n   93,\n   273,\n   232,\n   166,\n   190,\n   49,\n   133,\n   274,\n   268,\n   142,\n   249,\n   153,\n   81,\n   9,\n   204,\n   85,\n   265,\n   118,\n   220,\n   139,\n   256,\n   117,\n   121,\n   62,\n   18,\n   67,\n   68,\n   107],\n  [184,\n   244,\n   99,\n   252,\n   157,\n   101,\n   213,\n   43,\n   61,\n   264,\n   146,\n   3,\n   5,\n   239,\n   56,\n   288,\n   183,\n   42,\n   242,\n   180,\n   25,\n   218,\n   186,\n   199,\n   137,\n   138,\n   219,\n   83,\n   160,\n   28,\n   222,\n   13,\n   234,\n   120,\n   229,\n   6,\n   202,\n   169,\n   63,\n   201,\n   286,\n   104,\n   167,\n   158,\n   207,\n   87,\n   60,\n   223,\n   225,\n   221,\n   194,\n   280,\n   175,\n   16,\n   129,\n   95,\n   135,\n   73,\n   179,\n   74,\n   111,\n   262],\n  [258,\n   279,\n   66,\n   20,\n   285,\n   297,\n   46,\n   37,\n   2,\n   293,\n   178,\n   33,\n   148,\n   230,\n   163,\n   266,\n   116,\n   276,\n   257,\n   196,\n   292,\n   128,\n   299,\n   231,\n   161,\n   41,\n   141,\n   122,\n   24,\n   130,\n   35,\n   189,\n   12,\n   7,\n   270,\n   54,\n   17,\n   159,\n   156,\n   131,\n   123,\n   227,\n   212,\n   143,\n   197,\n   240,\n   50,\n   294,\n   177,\n   19,\n   162,\n   8,\n   251,\n   176,\n   11,\n   106,\n   80,\n   140,\n   119]],\n (('train_l2', 0.41342029049460777),\n  ('val_l2', 0.24134734034179858),\n  ('test_l2', 0.202948913516391)): [[230,\n   255,\n   108,\n   40,\n   300,\n   151,\n   110,\n   145,\n   158,\n   28,\n   236,\n   227,\n   203,\n   31,\n   64,\n   262,\n   263,\n   37,\n   174,\n   66,\n   171,\n   105,\n   136,\n   289,\n   89,\n   127,\n   226,\n   113,\n   5,\n   223,\n   16,\n   77,\n   286,\n   261,\n   170,\n   102,\n   95,\n   246,\n   259,\n   74,\n   238,\n   161,\n   182,\n   290,\n   100,\n   169,\n   51,\n   228,\n   298,\n   98,\n   162,\n   215,\n   32,\n   124,\n   291,\n   15,\n   45,\n   282,\n   57,\n   14,\n   155,\n   1,\n   84,\n   96,\n   150,\n   38,\n   149,\n   271,\n   75,\n   188,\n   199,\n   231,\n   109,\n   210,\n   21,\n   168,\n   91,\n   250,\n   107,\n   53,\n   72,\n   195,\n   153,\n   132,\n   115,\n   78,\n   65,\n   29,\n   119,\n   10,\n   243,\n   206,\n   216,\n   198,\n   44,\n   229,\n   129,\n   173,\n   36,\n   217,\n   224,\n   125,\n   253,\n   79,\n   205,\n   248,\n   141,\n   76,\n   67,\n   140,\n   295,\n   99,\n   208,\n   97,\n   152,\n   211,\n   187,\n   34,\n   272,\n   52,\n   48,\n   92,\n   23,\n   181,\n   278,\n   269,\n   71,\n   172,\n   245,\n   24,\n   154,\n   283,\n   254,\n   103,\n   260,\n   214,\n   164,\n   297,\n   42,\n   247,\n   212,\n   94,\n   27,\n   86,\n   68,\n   218,\n   241,\n   93,\n   232,\n   166,\n   126,\n   49,\n   133,\n   274,\n   73,\n   142,\n   273,\n   81,\n   9,\n   204,\n   265,\n   118,\n   220,\n   139,\n   185,\n   294,\n   221,\n   63,\n   41,\n   104,\n   70,\n   157,\n   192,\n   56,\n   200,\n   264,\n   207,\n   287],\n  [244,\n   8,\n   233,\n   219,\n   18,\n   213,\n   256,\n   197,\n   178,\n   146,\n   3,\n   242,\n   128,\n   288,\n   106,\n   179,\n   22,\n   193,\n   55,\n   26,\n   281,\n   114,\n   143,\n   277,\n   134,\n   121,\n   11,\n   7,\n   83,\n   61,\n   116,\n   222,\n   251,\n   234,\n   279,\n   120,\n   284,\n   6,\n   202,\n   275,\n   111,\n   112,\n   62,\n   167,\n   19,\n   2,\n   60,\n   35,\n   225,\n   194,\n   135,\n   80,\n   293,\n   296,\n   276,\n   299,\n   54,\n   4,\n   50,\n   85,\n   268,\n   58],\n  [258,\n   209,\n   88,\n   20,\n   285,\n   180,\n   13,\n   87,\n   137,\n   82,\n   148,\n   138,\n   163,\n   266,\n   30,\n   177,\n   257,\n   196,\n   292,\n   252,\n   39,\n   190,\n   69,\n   249,\n   147,\n   122,\n   59,\n   130,\n   235,\n   189,\n   12,\n   101,\n   270,\n   47,\n   17,\n   159,\n   156,\n   183,\n   131,\n   123,\n   191,\n   280,\n   46,\n   160,\n   176,\n   240,\n   201,\n   165,\n   186,\n   117,\n   184,\n   175,\n   90,\n   239,\n   25,\n   267,\n   237,\n   144,\n   33,\n   43]],\n (('train_l2', 0.4132475705066772),\n  ('val_l2', 0.20285673429366372),\n  ('test_l2', 0.24237102648396408)): [[134,\n   255,\n   108,\n   40,\n   300,\n   151,\n   70,\n   145,\n   28,\n   236,\n   191,\n   203,\n   31,\n   64,\n   262,\n   263,\n   147,\n   174,\n   88,\n   171,\n   235,\n   136,\n   289,\n   89,\n   127,\n   226,\n   113,\n   242,\n   105,\n   114,\n   96,\n   77,\n   200,\n   261,\n   277,\n   102,\n   246,\n   259,\n   30,\n   238,\n   69,\n   182,\n   290,\n   100,\n   275,\n   51,\n   298,\n   98,\n   215,\n   32,\n   296,\n   124,\n   291,\n   15,\n   45,\n   282,\n   57,\n   237,\n   14,\n   155,\n   1,\n   84,\n   162,\n   150,\n   38,\n   149,\n   271,\n   75,\n   188,\n   126,\n   254,\n   231,\n   228,\n   90,\n   193,\n   21,\n   168,\n   250,\n   233,\n   53,\n   72,\n   195,\n   39,\n   132,\n   115,\n   78,\n   65,\n   29,\n   165,\n   119,\n   10,\n   91,\n   206,\n   216,\n   198,\n   44,\n   284,\n   173,\n   55,\n   217,\n   224,\n   47,\n   125,\n   253,\n   183,\n   79,\n   56,\n   205,\n   248,\n   112,\n   76,\n   110,\n   295,\n   192,\n   4,\n   208,\n   97,\n   152,\n   211,\n   187,\n   34,\n   272,\n   52,\n   48,\n   92,\n   23,\n   181,\n   278,\n   269,\n   71,\n   172,\n   245,\n   247,\n   154,\n   283,\n   26,\n   103,\n   260,\n   214,\n   164,\n   267,\n   36,\n   22,\n   59,\n   212,\n   94,\n   27,\n   86,\n   209,\n   185,\n   281,\n   241,\n   93,\n   273,\n   232,\n   166,\n   190,\n   49,\n   133,\n   274,\n   268,\n   142,\n   249,\n   153,\n   81,\n   9,\n   204,\n   85,\n   265,\n   118,\n   220,\n   139,\n   256,\n   117,\n   159,\n   62,\n   18,\n   67,\n   68,\n   46],\n  [184,\n   244,\n   99,\n   107,\n   252,\n   157,\n   101,\n   213,\n   43,\n   61,\n   264,\n   146,\n   3,\n   5,\n   239,\n   82,\n   288,\n   106,\n   42,\n   210,\n   297,\n   25,\n   218,\n   186,\n   199,\n   137,\n   138,\n   219,\n   83,\n   160,\n   243,\n   222,\n   13,\n   234,\n   120,\n   229,\n   6,\n   202,\n   169,\n   63,\n   179,\n   286,\n   104,\n   167,\n   158,\n   207,\n   2,\n   60,\n   223,\n   225,\n   221,\n   194,\n   280,\n   175,\n   16,\n   129,\n   95,\n   135,\n   73,\n   144],\n  [258,\n   279,\n   66,\n   20,\n   285,\n   180,\n   37,\n   87,\n   287,\n   178,\n   33,\n   148,\n   230,\n   163,\n   266,\n   74,\n   116,\n   276,\n   257,\n   196,\n   292,\n   128,\n   299,\n   170,\n   161,\n   111,\n   41,\n   141,\n   122,\n   24,\n   130,\n   35,\n   189,\n   12,\n   7,\n   270,\n   54,\n   17,\n   121,\n   156,\n   131,\n   123,\n   227,\n   109,\n   143,\n   197,\n   240,\n   50,\n   294,\n   177,\n   19,\n   293,\n   8,\n   251,\n   201,\n   176,\n   11,\n   58,\n   80,\n   140]],\n (('train_l2', 0.41355501455519283),\n  ('val_l2', 0.24191170793760403),\n  ('test_l2', 0.2027126179929951)): [[230,\n   255,\n   108,\n   40,\n   300,\n   151,\n   110,\n   68,\n   158,\n   28,\n   236,\n   227,\n   203,\n   31,\n   64,\n   262,\n   263,\n   37,\n   174,\n   88,\n   171,\n   235,\n   136,\n   289,\n   89,\n   127,\n   226,\n   113,\n   5,\n   223,\n   16,\n   77,\n   280,\n   261,\n   277,\n   102,\n   95,\n   246,\n   259,\n   74,\n   238,\n   161,\n   182,\n   290,\n   100,\n   169,\n   51,\n   228,\n   298,\n   98,\n   162,\n   215,\n   32,\n   124,\n   291,\n   15,\n   45,\n   282,\n   57,\n   14,\n   155,\n   1,\n   84,\n   96,\n   150,\n   38,\n   149,\n   271,\n   75,\n   188,\n   143,\n   231,\n   109,\n   210,\n   21,\n   168,\n   91,\n   250,\n   107,\n   53,\n   72,\n   195,\n   153,\n   132,\n   115,\n   35,\n   65,\n   29,\n   119,\n   10,\n   243,\n   206,\n   216,\n   198,\n   229,\n   6,\n   173,\n   36,\n   217,\n   224,\n   125,\n   253,\n   58,\n   22,\n   205,\n   248,\n   141,\n   76,\n   67,\n   140,\n   295,\n   99,\n   208,\n   97,\n   152,\n   211,\n   187,\n   34,\n   272,\n   52,\n   48,\n   92,\n   23,\n   181,\n   278,\n   269,\n   71,\n   172,\n   245,\n   24,\n   154,\n   283,\n   26,\n   103,\n   260,\n   214,\n   164,\n   297,\n   42,\n   247,\n   212,\n   94,\n   27,\n   86,\n   209,\n   218,\n   241,\n   93,\n   232,\n   166,\n   126,\n   49,\n   133,\n   274,\n   268,\n   73,\n   142,\n   273,\n   81,\n   9,\n   204,\n   265,\n   118,\n   220,\n   139,\n   185,\n   294,\n   221,\n   63,\n   41,\n   104,\n   70,\n   157,\n   192,\n   56,\n   200,\n   264,\n   207,\n   117],\n  [244,\n   8,\n   233,\n   219,\n   18,\n   213,\n   43,\n   33,\n   197,\n   178,\n   146,\n   3,\n   242,\n   128,\n   288,\n   106,\n   179,\n   79,\n   193,\n   55,\n   239,\n   281,\n   114,\n   199,\n   170,\n   134,\n   121,\n   11,\n   7,\n   83,\n   61,\n   116,\n   222,\n   251,\n   234,\n   279,\n   120,\n   284,\n   129,\n   202,\n   275,\n   111,\n   112,\n   62,\n   167,\n   19,\n   256,\n   2,\n   60,\n   148,\n   225,\n   194,\n   135,\n   80,\n   293,\n   296,\n   276,\n   299,\n   54,\n   4,\n   50,\n   85],\n  [258,\n   145,\n   66,\n   20,\n   285,\n   180,\n   13,\n   87,\n   287,\n   137,\n   82,\n   78,\n   138,\n   163,\n   266,\n   30,\n   177,\n   257,\n   196,\n   292,\n   252,\n   39,\n   190,\n   69,\n   249,\n   147,\n   122,\n   59,\n   130,\n   105,\n   189,\n   12,\n   101,\n   270,\n   47,\n   17,\n   159,\n   156,\n   183,\n   131,\n   123,\n   191,\n   286,\n   46,\n   160,\n   176,\n   240,\n   201,\n   165,\n   186,\n   184,\n   175,\n   90,\n   25,\n   254,\n   267,\n   237,\n   144,\n   44]],\n (('train_l2', 0.41366898713846617),\n  ('val_l2', 0.24244094433266425),\n  ('test_l2', 0.202528762274829)): [[230,\n   255,\n   108,\n   40,\n   300,\n   151,\n   110,\n   145,\n   163,\n   28,\n   236,\n   239,\n   203,\n   31,\n   64,\n   262,\n   263,\n   37,\n   174,\n   88,\n   4,\n   235,\n   136,\n   289,\n   89,\n   127,\n   226,\n   113,\n   242,\n   135,\n   16,\n   77,\n   280,\n   261,\n   277,\n   102,\n   95,\n   246,\n   259,\n   74,\n   238,\n   161,\n   182,\n   290,\n   100,\n   169,\n   51,\n   228,\n   298,\n   98,\n   162,\n   215,\n   32,\n   124,\n   291,\n   15,\n   285,\n   282,\n   57,\n   237,\n   14,\n   155,\n   1,\n   84,\n   293,\n   150,\n   38,\n   149,\n   271,\n   75,\n   188,\n   143,\n   231,\n   109,\n   210,\n   21,\n   168,\n   91,\n   250,\n   116,\n   53,\n   72,\n   195,\n   39,\n   132,\n   115,\n   78,\n   65,\n   29,\n   119,\n   10,\n   243,\n   206,\n   216,\n   198,\n   44,\n   229,\n   129,\n   173,\n   217,\n   224,\n   125,\n   253,\n   58,\n   79,\n   47,\n   205,\n   248,\n   141,\n   76,\n   67,\n   140,\n   295,\n   99,\n   208,\n   97,\n   152,\n   211,\n   187,\n   178,\n   272,\n   52,\n   48,\n   92,\n   23,\n   181,\n   278,\n   107,\n   71,\n   172,\n   245,\n   24,\n   154,\n   283,\n   26,\n   103,\n   260,\n   214,\n   234,\n   297,\n   42,\n   247,\n   212,\n   94,\n   27,\n   86,\n   209,\n   218,\n   241,\n   93,\n   232,\n   126,\n   49,\n   133,\n   274,\n   268,\n   73,\n   142,\n   111,\n   81,\n   9,\n   204,\n   265,\n   118,\n   220,\n   139,\n   185,\n   294,\n   221,\n   63,\n   41,\n   104,\n   70,\n   157,\n   192,\n   56,\n   200,\n   7,\n   134,\n   96],\n  [244,\n   8,\n   233,\n   219,\n   18,\n   264,\n   213,\n   43,\n   33,\n   197,\n   34,\n   146,\n   3,\n   252,\n   288,\n   106,\n   45,\n   22,\n   153,\n   36,\n   25,\n   281,\n   114,\n   199,\n   170,\n   121,\n   11,\n   83,\n   61,\n   269,\n   222,\n   251,\n   164,\n   68,\n   120,\n   284,\n   6,\n   202,\n   275,\n   273,\n   112,\n   62,\n   167,\n   19,\n   256,\n   207,\n   2,\n   60,\n   35,\n   225,\n   194,\n   223,\n   80,\n   296,\n   276,\n   299,\n   54,\n   171,\n   50,\n   85,\n   166],\n  [258,\n   279,\n   66,\n   20,\n   179,\n   180,\n   13,\n   87,\n   287,\n   137,\n   144,\n   148,\n   138,\n   158,\n   266,\n   30,\n   177,\n   257,\n   196,\n   292,\n   128,\n   193,\n   190,\n   69,\n   249,\n   147,\n   122,\n   59,\n   130,\n   105,\n   189,\n   12,\n   101,\n   270,\n   82,\n   17,\n   159,\n   156,\n   183,\n   131,\n   123,\n   191,\n   286,\n   46,\n   160,\n   176,\n   240,\n   201,\n   165,\n   186,\n   117,\n   184,\n   175,\n   90,\n   227,\n   254,\n   267,\n   5,\n   55]],\n (('train_l2', 0.41366304551020816),\n  ('val_l2', 0.2422388600855672),\n  ('test_l2', 0.2026587661001961)): [[230,\n   255,\n   108,\n   40,\n   300,\n   151,\n   110,\n   145,\n   163,\n   28,\n   236,\n   227,\n   203,\n   31,\n   64,\n   262,\n   263,\n   37,\n   174,\n   88,\n   4,\n   235,\n   136,\n   289,\n   89,\n   127,\n   226,\n   113,\n   242,\n   135,\n   16,\n   77,\n   280,\n   261,\n   277,\n   102,\n   95,\n   246,\n   259,\n   74,\n   238,\n   161,\n   182,\n   290,\n   100,\n   169,\n   51,\n   228,\n   298,\n   98,\n   162,\n   215,\n   32,\n   124,\n   291,\n   15,\n   285,\n   282,\n   57,\n   237,\n   14,\n   155,\n   1,\n   84,\n   293,\n   150,\n   38,\n   149,\n   271,\n   75,\n   188,\n   143,\n   231,\n   109,\n   210,\n   21,\n   168,\n   91,\n   106,\n   116,\n   53,\n   72,\n   195,\n   39,\n   132,\n   115,\n   78,\n   65,\n   29,\n   119,\n   10,\n   243,\n   206,\n   216,\n   198,\n   44,\n   229,\n   129,\n   173,\n   217,\n   224,\n   125,\n   253,\n   58,\n   79,\n   47,\n   205,\n   248,\n   141,\n   76,\n   67,\n   140,\n   295,\n   99,\n   208,\n   97,\n   152,\n   211,\n   187,\n   178,\n   272,\n   52,\n   48,\n   92,\n   23,\n   181,\n   278,\n   107,\n   71,\n   172,\n   245,\n   24,\n   154,\n   283,\n   26,\n   103,\n   260,\n   214,\n   164,\n   297,\n   42,\n   247,\n   212,\n   94,\n   27,\n   86,\n   209,\n   218,\n   241,\n   93,\n   232,\n   126,\n   49,\n   133,\n   274,\n   268,\n   73,\n   142,\n   111,\n   81,\n   9,\n   204,\n   265,\n   118,\n   220,\n   139,\n   185,\n   294,\n   221,\n   63,\n   41,\n   104,\n   70,\n   157,\n   192,\n   56,\n   200,\n   7,\n   134,\n   96,\n   186],\n  [244,\n   8,\n   233,\n   219,\n   18,\n   264,\n   213,\n   43,\n   33,\n   197,\n   34,\n   146,\n   3,\n   252,\n   288,\n   250,\n   45,\n   22,\n   193,\n   36,\n   25,\n   281,\n   114,\n   199,\n   170,\n   121,\n   11,\n   83,\n   61,\n   269,\n   222,\n   251,\n   234,\n   68,\n   120,\n   284,\n   6,\n   202,\n   275,\n   273,\n   112,\n   62,\n   167,\n   19,\n   256,\n   207,\n   2,\n   60,\n   35,\n   225,\n   194,\n   223,\n   80,\n   296,\n   276,\n   299,\n   54,\n   171,\n   50,\n   85,\n   166],\n  [258,\n   279,\n   66,\n   20,\n   179,\n   180,\n   13,\n   87,\n   287,\n   137,\n   144,\n   148,\n   138,\n   158,\n   266,\n   30,\n   177,\n   257,\n   196,\n   292,\n   128,\n   153,\n   190,\n   69,\n   249,\n   147,\n   122,\n   59,\n   130,\n   105,\n   189,\n   12,\n   101,\n   270,\n   82,\n   17,\n   159,\n   156,\n   183,\n   131,\n   123,\n   191,\n   286,\n   46,\n   160,\n   176,\n   240,\n   201,\n   165,\n   117,\n   184,\n   175,\n   90,\n   239,\n   254,\n   267,\n   5,\n   55]],\n (('train_l2', 0.41334404295907456),\n  ('val_l2', 0.24156501801506497),\n  ('test_l2', 0.20277896104365412)): [[230,\n   255,\n   108,\n   40,\n   300,\n   151,\n   110,\n   145,\n   158,\n   28,\n   236,\n   227,\n   203,\n   31,\n   64,\n   262,\n   263,\n   174,\n   88,\n   171,\n   235,\n   136,\n   289,\n   89,\n   127,\n   226,\n   113,\n   5,\n   223,\n   16,\n   77,\n   280,\n   261,\n   277,\n   102,\n   95,\n   246,\n   259,\n   74,\n   238,\n   161,\n   182,\n   290,\n   100,\n   169,\n   51,\n   228,\n   298,\n   98,\n   162,\n   215,\n   32,\n   124,\n   291,\n   15,\n   45,\n   282,\n   57,\n   14,\n   155,\n   1,\n   84,\n   96,\n   150,\n   38,\n   149,\n   271,\n   75,\n   188,\n   199,\n   231,\n   109,\n   210,\n   21,\n   168,\n   91,\n   250,\n   107,\n   53,\n   195,\n   153,\n   132,\n   115,\n   78,\n   65,\n   29,\n   119,\n   10,\n   243,\n   206,\n   216,\n   198,\n   44,\n   229,\n   129,\n   173,\n   36,\n   217,\n   224,\n   125,\n   253,\n   58,\n   79,\n   205,\n   248,\n   141,\n   76,\n   67,\n   140,\n   295,\n   99,\n   208,\n   97,\n   152,\n   211,\n   187,\n   34,\n   272,\n   52,\n   48,\n   92,\n   23,\n   181,\n   278,\n   269,\n   71,\n   172,\n   245,\n   24,\n   154,\n   283,\n   26,\n   103,\n   260,\n   214,\n   164,\n   297,\n   42,\n   247,\n   212,\n   94,\n   27,\n   86,\n   209,\n   218,\n   241,\n   93,\n   232,\n   166,\n   126,\n   49,\n   33,\n   274,\n   268,\n   73,\n   142,\n   273,\n   81,\n   9,\n   204,\n   265,\n   118,\n   220,\n   139,\n   185,\n   294,\n   221,\n   63,\n   41,\n   104,\n   70,\n   157,\n   192,\n   56,\n   200,\n   264,\n   207,\n   287],\n  [244,\n   8,\n   233,\n   219,\n   18,\n   213,\n   43,\n   133,\n   197,\n   178,\n   146,\n   3,\n   242,\n   128,\n   288,\n   106,\n   179,\n   22,\n   193,\n   55,\n   25,\n   281,\n   114,\n   143,\n   170,\n   134,\n   121,\n   11,\n   7,\n   83,\n   61,\n   116,\n   222,\n   251,\n   234,\n   279,\n   120,\n   284,\n   6,\n   202,\n   275,\n   111,\n   112,\n   62,\n   167,\n   19,\n   256,\n   2,\n   60,\n   35,\n   225,\n   194,\n   135,\n   80,\n   293,\n   296,\n   276,\n   299,\n   54,\n   4,\n   50,\n   85,\n   72],\n  [258,\n   68,\n   66,\n   20,\n   285,\n   180,\n   13,\n   87,\n   137,\n   82,\n   148,\n   138,\n   163,\n   266,\n   30,\n   177,\n   257,\n   196,\n   292,\n   252,\n   39,\n   190,\n   69,\n   249,\n   147,\n   122,\n   59,\n   130,\n   105,\n   189,\n   12,\n   101,\n   270,\n   47,\n   17,\n   159,\n   156,\n   183,\n   131,\n   123,\n   191,\n   286,\n   46,\n   160,\n   176,\n   240,\n   201,\n   165,\n   186,\n   117,\n   184,\n   175,\n   90,\n   239,\n   254,\n   267,\n   237,\n   144,\n   37]],\n (('train_l2', 0.41556406944029955),\n  ('val_l2', 0.24636781470444138),\n  ('test_l2', 0.20249567579069763)): [[230,\n   255,\n   108,\n   40,\n   300,\n   151,\n   110,\n   145,\n   158,\n   28,\n   236,\n   227,\n   203,\n   31,\n   64,\n   262,\n   263,\n   147,\n   174,\n   88,\n   171,\n   235,\n   136,\n   289,\n   89,\n   127,\n   226,\n   113,\n   242,\n   223,\n   167,\n   77,\n   280,\n   261,\n   277,\n   102,\n   95,\n   246,\n   259,\n   74,\n   238,\n   161,\n   182,\n   290,\n   100,\n   169,\n   51,\n   228,\n   298,\n   214,\n   162,\n   215,\n   32,\n   124,\n   291,\n   15,\n   45,\n   282,\n   57,\n   237,\n   14,\n   6,\n   1,\n   84,\n   293,\n   150,\n   38,\n   149,\n   271,\n   75,\n   188,\n   143,\n   225,\n   109,\n   210,\n   21,\n   168,\n   177,\n   250,\n   107,\n   72,\n   195,\n   39,\n   132,\n   115,\n   78,\n   65,\n   29,\n   119,\n   243,\n   206,\n   216,\n   198,\n   44,\n   284,\n   129,\n   55,\n   217,\n   224,\n   125,\n   253,\n   58,\n   79,\n   82,\n   205,\n   248,\n   141,\n   76,\n   67,\n   207,\n   295,\n   99,\n   4,\n   273,\n   254,\n   33,\n   211,\n   187,\n   34,\n   272,\n   52,\n   48,\n   92,\n   23,\n   181,\n   278,\n   269,\n   71,\n   172,\n   245,\n   24,\n   154,\n   283,\n   138,\n   103,\n   106,\n   164,\n   189,\n   42,\n   59,\n   212,\n   94,\n   27,\n   86,\n   209,\n   50,\n   281,\n   241,\n   93,\n   232,\n   234,\n   126,\n   49,\n   133,\n   274,\n   268,\n   73,\n   142,\n   111,\n   81,\n   9,\n   122,\n   178,\n   265,\n   118,\n   220,\n   139,\n   185,\n   294,\n   221,\n   63,\n   41,\n   104,\n   70,\n   157,\n   192,\n   56,\n   90,\n   68,\n   219,\n   202,\n   112],\n  [244,\n   8,\n   233,\n   18,\n   264,\n   213,\n   43,\n   152,\n   197,\n   85,\n   146,\n   3,\n   239,\n   252,\n   288,\n   260,\n   179,\n   22,\n   193,\n   36,\n   297,\n   218,\n   114,\n   199,\n   137,\n   134,\n   121,\n   11,\n   7,\n   83,\n   61,\n   116,\n   222,\n   13,\n   166,\n   120,\n   229,\n   155,\n   275,\n   208,\n   62,\n   47,\n   19,\n   256,\n   140,\n   2,\n   60,\n   35,\n   231,\n   194,\n   135,\n   80,\n   96,\n   296,\n   276,\n   299,\n   54,\n   53,\n   91],\n  [258,\n   279,\n   66,\n   20,\n   285,\n   180,\n   251,\n   87,\n   287,\n   170,\n   144,\n   148,\n   26,\n   163,\n   266,\n   30,\n   257,\n   196,\n   292,\n   128,\n   153,\n   190,\n   69,\n   249,\n   37,\n   204,\n   247,\n   130,\n   105,\n   25,\n   12,\n   101,\n   270,\n   267,\n   17,\n   159,\n   156,\n   183,\n   131,\n   123,\n   191,\n   286,\n   46,\n   160,\n   176,\n   200,\n   240,\n   201,\n   165,\n   186,\n   117,\n   184,\n   175,\n   5,\n   97,\n   16,\n   98,\n   173,\n   10]],\n (('train_l2', 0.4136938506990915),\n  ('val_l2', 0.24217729067747668),\n  ('test_l2', 0.20260708977876554)): [[230,\n   255,\n   108,\n   40,\n   300,\n   151,\n   110,\n   145,\n   158,\n   28,\n   236,\n   227,\n   203,\n   31,\n   64,\n   262,\n   263,\n   37,\n   174,\n   88,\n   4,\n   235,\n   136,\n   289,\n   89,\n   127,\n   226,\n   113,\n   242,\n   223,\n   16,\n   77,\n   280,\n   261,\n   277,\n   102,\n   95,\n   246,\n   259,\n   74,\n   238,\n   161,\n   182,\n   290,\n   100,\n   169,\n   51,\n   228,\n   298,\n   98,\n   162,\n   167,\n   32,\n   124,\n   291,\n   15,\n   34,\n   282,\n   57,\n   237,\n   14,\n   155,\n   1,\n   84,\n   293,\n   150,\n   38,\n   149,\n   271,\n   75,\n   188,\n   143,\n   231,\n   109,\n   210,\n   21,\n   91,\n   250,\n   116,\n   53,\n   72,\n   195,\n   39,\n   132,\n   115,\n   78,\n   65,\n   29,\n   119,\n   10,\n   243,\n   206,\n   216,\n   198,\n   44,\n   229,\n   129,\n   173,\n   217,\n   224,\n   125,\n   253,\n   58,\n   79,\n   47,\n   205,\n   248,\n   141,\n   76,\n   67,\n   140,\n   295,\n   99,\n   208,\n   97,\n   152,\n   211,\n   187,\n   178,\n   272,\n   52,\n   48,\n   92,\n   23,\n   181,\n   278,\n   269,\n   71,\n   172,\n   245,\n   24,\n   154,\n   283,\n   26,\n   103,\n   260,\n   214,\n   164,\n   297,\n   42,\n   247,\n   212,\n   94,\n   27,\n   86,\n   209,\n   218,\n   241,\n   93,\n   232,\n   166,\n   126,\n   49,\n   133,\n   274,\n   268,\n   73,\n   142,\n   111,\n   81,\n   9,\n   204,\n   265,\n   118,\n   220,\n   139,\n   185,\n   138,\n   221,\n   63,\n   41,\n   104,\n   70,\n   157,\n   192,\n   56,\n   200,\n   7,\n   107,\n   96,\n   46],\n  [244,\n   8,\n   233,\n   219,\n   264,\n   213,\n   43,\n   33,\n   197,\n   285,\n   146,\n   3,\n   252,\n   288,\n   106,\n   45,\n   22,\n   193,\n   36,\n   25,\n   281,\n   114,\n   199,\n   170,\n   134,\n   121,\n   11,\n   83,\n   61,\n   222,\n   251,\n   234,\n   68,\n   120,\n   284,\n   6,\n   202,\n   275,\n   273,\n   112,\n   62,\n   215,\n   19,\n   256,\n   207,\n   2,\n   60,\n   35,\n   225,\n   194,\n   135,\n   80,\n   296,\n   276,\n   299,\n   54,\n   171,\n   50,\n   85,\n   168],\n  [258,\n   279,\n   66,\n   20,\n   179,\n   180,\n   13,\n   87,\n   287,\n   137,\n   144,\n   148,\n   294,\n   163,\n   266,\n   30,\n   177,\n   257,\n   196,\n   292,\n   128,\n   153,\n   190,\n   69,\n   249,\n   147,\n   122,\n   59,\n   130,\n   105,\n   189,\n   12,\n   101,\n   270,\n   82,\n   17,\n   159,\n   156,\n   183,\n   131,\n   123,\n   191,\n   286,\n   160,\n   176,\n   240,\n   201,\n   165,\n   186,\n   117,\n   184,\n   175,\n   90,\n   239,\n   254,\n   267,\n   5,\n   55,\n   18]]}"
     },
     "execution_count": 199,
     "metadata": {},
     "output_type": "execute_result"
    }
   ],
   "source": [
    "solutions"
   ],
   "metadata": {
    "collapsed": false
   }
  },
  {
   "cell_type": "code",
   "execution_count": null,
   "outputs": [],
   "source": [],
   "metadata": {
    "collapsed": false
   }
  }
 ],
 "metadata": {
  "kernelspec": {
   "display_name": "Python 3",
   "language": "python",
   "name": "python3"
  },
  "language_info": {
   "codemirror_mode": {
    "name": "ipython",
    "version": 2
   },
   "file_extension": ".py",
   "mimetype": "text/x-python",
   "name": "python",
   "nbconvert_exporter": "python",
   "pygments_lexer": "ipython2",
   "version": "2.7.6"
  }
 },
 "nbformat": 4,
 "nbformat_minor": 0
}
